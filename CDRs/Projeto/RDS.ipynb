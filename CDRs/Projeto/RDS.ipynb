{
 "cells": [
  {
   "cell_type": "markdown",
   "id": "d781a943-8d83-4b3a-9352-e6ef1c317b1a",
   "metadata": {},
   "source": [
    "# <font color='red' style='font-size: 30px;'> Respondent-Driven Sampling </font>\n",
    "<hr style='border: 2px solid red;'>"
   ]
  },
  {
   "cell_type": "markdown",
   "id": "385899ff-d2aa-4e8e-8ab0-7c7b44d7b7f4",
   "metadata": {},
   "source": [
    "## <font color = 'black' style='font-size: 26px;'> Imports </font>  \n",
    "<hr style = 'border: 1.5px solid black;'>"
   ]
  },
  {
   "cell_type": "code",
   "execution_count": 3,
   "id": "44aabbf0-0c48-4e17-91de-184e992dffa2",
   "metadata": {},
   "outputs": [],
   "source": [
    "import networkx as nx\n",
    "import random\n",
    "from functions import save_with_pickle, load_with_pickle"
   ]
  },
  {
   "cell_type": "markdown",
   "id": "079e1345-9277-4da9-a7ab-4b0e22a4bd79",
   "metadata": {},
   "source": [
    "## <font color = 'black' style='font-size: 26px;'> Implementação </font>  \n",
    "<hr style = 'border: 1.5px solid black;'>"
   ]
  },
  {
   "cell_type": "code",
   "execution_count": 5,
   "id": "7cd79bed-e570-4931-aa2e-ea57b95a78da",
   "metadata": {},
   "outputs": [],
   "source": [
    "# Importando a rede\n",
    "graph = nx.read_graphml('rede_uberlandia.graphml')"
   ]
  },
  {
   "cell_type": "code",
   "execution_count": 6,
   "id": "ad9439a5-f35c-4d3d-bb51-8b75f8afeeb9",
   "metadata": {},
   "outputs": [
    {
     "data": {
      "text/plain": [
       "254551"
      ]
     },
     "execution_count": 6,
     "metadata": {},
     "output_type": "execute_result"
    }
   ],
   "source": [
    "len(graph.nodes())"
   ]
  },
  {
   "cell_type": "code",
   "execution_count": 7,
   "id": "7ff308e1-3814-49f9-a383-38e9b9928d3e",
   "metadata": {},
   "outputs": [],
   "source": [
    "# Selecionando os nós com maior grau na rede\n",
    "def selection_seeds(number_seeds):\n",
    "    graph_degree = sorted(graph.degree(), key=lambda x:x[1], reverse=True)\n",
    "    return [graph_degree[i][0] for i in range(1, number_seeds+1)]"
   ]
  },
  {
   "cell_type": "code",
   "execution_count": 8,
   "id": "8b78b21f-09bc-441e-8e05-2ed038ae25f4",
   "metadata": {},
   "outputs": [],
   "source": [
    "# Recrutamento de novos nós\n",
    "def given_tickets(graph, node, number_tickets, sample_nodes):\n",
    "    adj_not_in_sample = list(set(graph.adj[node]).difference(set(sample_nodes)))\n",
    "    if len(adj_not_in_sample) < number_tickets:\n",
    "        sample_nodes.extend(adj_not_in_sample)\n",
    "    else:\n",
    "        sample_nodes.extend(random.sample(adj_not_in_sample, number_tickets))\n",
    "    return sample_nodes"
   ]
  },
  {
   "cell_type": "code",
   "execution_count": 9,
   "id": "b925ea68-adf2-4864-b2c5-f53dd7431f34",
   "metadata": {},
   "outputs": [],
   "source": [
    "def respondent_driven_sampling(graph, number_seeds, number_tickets, number_of_nodes):\n",
    "    sample_nodes = selection_seeds(number_seeds)\n",
    "    index_node = 0\n",
    "    while len(sample_nodes) < number_of_nodes:\n",
    "        sample_nodes = given_tickets(graph, sample_nodes[index_node], number_tickets, sample_nodes)\n",
    "        index_node += 1\n",
    "    return sample_nodes"
   ]
  },
  {
   "cell_type": "code",
   "execution_count": 10,
   "id": "9d84b3bb-8c24-4d63-b9d3-8834ea35ee35",
   "metadata": {},
   "outputs": [],
   "source": [
    "nodes = respondent_driven_sampling(graph, 1000, 5, round(len(graph.nodes()) * 0.5))"
   ]
  },
  {
   "cell_type": "code",
   "execution_count": 11,
   "id": "48eb96b5-c0fc-461e-b7b5-37c5beaf1569",
   "metadata": {},
   "outputs": [],
   "source": [
    "save_with_pickle(nodes, '../Dados/Processados/', 'amostragem_nos')"
   ]
  },
  {
   "cell_type": "code",
   "execution_count": 12,
   "id": "7b5e308a-cd29-4388-9494-fe5b8841f4d8",
   "metadata": {},
   "outputs": [
    {
     "data": {
      "text/plain": [
       "127280"
      ]
     },
     "execution_count": 12,
     "metadata": {},
     "output_type": "execute_result"
    }
   ],
   "source": [
    "len(nodes)"
   ]
  },
  {
   "cell_type": "code",
   "execution_count": null,
   "id": "33a65bdc-6aee-4585-9971-683ec949d52e",
   "metadata": {},
   "outputs": [],
   "source": []
  }
 ],
 "metadata": {
  "kernelspec": {
   "display_name": "Python 3 (ipykernel)",
   "language": "python",
   "name": "python3"
  },
  "language_info": {
   "codemirror_mode": {
    "name": "ipython",
    "version": 3
   },
   "file_extension": ".py",
   "mimetype": "text/x-python",
   "name": "python",
   "nbconvert_exporter": "python",
   "pygments_lexer": "ipython3",
   "version": "3.11.7"
  }
 },
 "nbformat": 4,
 "nbformat_minor": 5
}

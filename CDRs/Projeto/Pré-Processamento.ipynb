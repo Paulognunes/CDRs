{
 "cells": [
  {
   "cell_type": "code",
   "execution_count": 1,
   "id": "4a071beb-48fe-4ede-a1f8-1fe00ac87c59",
   "metadata": {},
   "outputs": [],
   "source": [
    "import pandas as pd\n",
    "import numpy as np"
   ]
  },
  {
   "cell_type": "code",
   "execution_count": 2,
   "id": "c1f8df29-b6e2-4655-8e3b-a775f12b8d1b",
   "metadata": {},
   "outputs": [
    {
     "data": {
      "text/html": [
       "<div>\n",
       "<style scoped>\n",
       "    .dataframe tbody tr th:only-of-type {\n",
       "        vertical-align: middle;\n",
       "    }\n",
       "\n",
       "    .dataframe tbody tr th {\n",
       "        vertical-align: top;\n",
       "    }\n",
       "\n",
       "    .dataframe thead th {\n",
       "        text-align: right;\n",
       "    }\n",
       "</style>\n",
       "<table border=\"1\" class=\"dataframe\">\n",
       "  <thead>\n",
       "    <tr style=\"text-align: right;\">\n",
       "      <th></th>\n",
       "      <th>Data</th>\n",
       "      <th>Hora</th>\n",
       "      <th>Duração</th>\n",
       "      <th>DDD_Origem</th>\n",
       "      <th>ID_Origem</th>\n",
       "      <th>DDD_Destino</th>\n",
       "      <th>ID_Destino</th>\n",
       "      <th>Antena</th>\n",
       "      <th>Vazio</th>\n",
       "      <th>ID_Tipo_Ligação</th>\n",
       "      <th>Abrangência_Ligação</th>\n",
       "      <th>Operadora_Antena_Origem</th>\n",
       "      <th>Operadora_Antena_Destino</th>\n",
       "      <th>Categoria_USER</th>\n",
       "      <th>X</th>\n",
       "    </tr>\n",
       "  </thead>\n",
       "  <tbody>\n",
       "    <tr>\n",
       "      <th>0</th>\n",
       "      <td>2013-04-16</td>\n",
       "      <td>08:10:26</td>\n",
       "      <td>0.55</td>\n",
       "      <td>84</td>\n",
       "      <td>F28A7CC2643468F06C81510658872E07</td>\n",
       "      <td>84</td>\n",
       "      <td>4EB08BB3316C38C499820B95DF87A725</td>\n",
       "      <td>55061</td>\n",
       "      <td>NaN</td>\n",
       "      <td>117</td>\n",
       "      <td>LOCAL</td>\n",
       "      <td>OI</td>\n",
       "      <td>OI</td>\n",
       "      <td>POS PAGO</td>\n",
       "      <td>300000199</td>\n",
       "    </tr>\n",
       "    <tr>\n",
       "      <th>1</th>\n",
       "      <td>2013-04-16</td>\n",
       "      <td>13:38:23</td>\n",
       "      <td>0.77</td>\n",
       "      <td>84</td>\n",
       "      <td>565580EB8FDD16750497A4565ECDBFF8</td>\n",
       "      <td>84</td>\n",
       "      <td>C6C73DC14A20986650521214ADD8537D</td>\n",
       "      <td>55021</td>\n",
       "      <td>NaN</td>\n",
       "      <td>117</td>\n",
       "      <td>LOCAL</td>\n",
       "      <td>OI</td>\n",
       "      <td>OI</td>\n",
       "      <td>PRE PAGO</td>\n",
       "      <td>300000210</td>\n",
       "    </tr>\n",
       "    <tr>\n",
       "      <th>2</th>\n",
       "      <td>2013-04-16</td>\n",
       "      <td>09:18:36</td>\n",
       "      <td>4.05</td>\n",
       "      <td>84</td>\n",
       "      <td>565580EB8FDD16750497A4565ECDBFF8</td>\n",
       "      <td>84</td>\n",
       "      <td>C6C73DC14A20986650521214ADD8537D</td>\n",
       "      <td>55021</td>\n",
       "      <td>NaN</td>\n",
       "      <td>117</td>\n",
       "      <td>LOCAL</td>\n",
       "      <td>OI</td>\n",
       "      <td>OI</td>\n",
       "      <td>PRE PAGO</td>\n",
       "      <td>300000210</td>\n",
       "    </tr>\n",
       "    <tr>\n",
       "      <th>3</th>\n",
       "      <td>2013-04-16</td>\n",
       "      <td>08:17:51</td>\n",
       "      <td>0.28</td>\n",
       "      <td>34</td>\n",
       "      <td>5E951582ACEB9E81E5786A28866C49CA</td>\n",
       "      <td>34</td>\n",
       "      <td>8CE7D690FAFE920D02B8C67E0E4B3279</td>\n",
       "      <td>55162</td>\n",
       "      <td>NaN</td>\n",
       "      <td>77</td>\n",
       "      <td>LOCAL</td>\n",
       "      <td>OI</td>\n",
       "      <td>CTBC</td>\n",
       "      <td>PRE PAGO</td>\n",
       "      <td>300000210</td>\n",
       "    </tr>\n",
       "    <tr>\n",
       "      <th>4</th>\n",
       "      <td>2013-04-16</td>\n",
       "      <td>09:44:52</td>\n",
       "      <td>3.72</td>\n",
       "      <td>84</td>\n",
       "      <td>06D76D98F69BEB0590280A4DC7DF762A</td>\n",
       "      <td>84</td>\n",
       "      <td>3AF1028B2DAFBD6C3590345C089A2B72</td>\n",
       "      <td>55061</td>\n",
       "      <td>NaN</td>\n",
       "      <td>117</td>\n",
       "      <td>LOCAL</td>\n",
       "      <td>OI</td>\n",
       "      <td>OI</td>\n",
       "      <td>PRE PAGO</td>\n",
       "      <td>300000533</td>\n",
       "    </tr>\n",
       "  </tbody>\n",
       "</table>\n",
       "</div>"
      ],
      "text/plain": [
       "         Data      Hora  Duração  DDD_Origem  \\\n",
       "0  2013-04-16  08:10:26     0.55          84   \n",
       "1  2013-04-16  13:38:23     0.77          84   \n",
       "2  2013-04-16  09:18:36     4.05          84   \n",
       "3  2013-04-16  08:17:51     0.28          34   \n",
       "4  2013-04-16  09:44:52     3.72          84   \n",
       "\n",
       "                          ID_Origem  DDD_Destino  \\\n",
       "0  F28A7CC2643468F06C81510658872E07           84   \n",
       "1  565580EB8FDD16750497A4565ECDBFF8           84   \n",
       "2  565580EB8FDD16750497A4565ECDBFF8           84   \n",
       "3  5E951582ACEB9E81E5786A28866C49CA           34   \n",
       "4  06D76D98F69BEB0590280A4DC7DF762A           84   \n",
       "\n",
       "                         ID_Destino  Antena  Vazio  ID_Tipo_Ligação  \\\n",
       "0  4EB08BB3316C38C499820B95DF87A725   55061    NaN              117   \n",
       "1  C6C73DC14A20986650521214ADD8537D   55021    NaN              117   \n",
       "2  C6C73DC14A20986650521214ADD8537D   55021    NaN              117   \n",
       "3  8CE7D690FAFE920D02B8C67E0E4B3279   55162    NaN               77   \n",
       "4  3AF1028B2DAFBD6C3590345C089A2B72   55061    NaN              117   \n",
       "\n",
       "  Abrangência_Ligação Operadora_Antena_Origem Operadora_Antena_Destino  \\\n",
       "0               LOCAL                      OI                       OI   \n",
       "1               LOCAL                      OI                       OI   \n",
       "2               LOCAL                      OI                       OI   \n",
       "3               LOCAL                      OI                     CTBC   \n",
       "4               LOCAL                      OI                       OI   \n",
       "\n",
       "  Categoria_USER          X  \n",
       "0       POS PAGO  300000199  \n",
       "1       PRE PAGO  300000210  \n",
       "2       PRE PAGO  300000210  \n",
       "3       PRE PAGO  300000210  \n",
       "4       PRE PAGO  300000533  "
      ]
     },
     "execution_count": 2,
     "metadata": {},
     "output_type": "execute_result"
    }
   ],
   "source": [
    "# Importação dos Dados\n",
    "names=['Data', 'Hora', 'Duração', 'DDD_Origem', 'ID_Origem', 'DDD_Destino', 'ID_Destino', 'Antena', 'Vazio', 'ID_Tipo_Ligação', 'Abrangência_Ligação', 'Operadora_Antena_Origem', 'Operadora_Antena_Destino', 'Categoria_USER', 'X']\n",
    "dataset = pd.read_csv('../Dados/cdr_Uberlândia.txt', sep=';', names=names)\n",
    "dataset.head(5)"
   ]
  },
  {
   "cell_type": "code",
   "execution_count": 3,
   "id": "032a1f1d-4f41-4034-990f-fe72e01a6809",
   "metadata": {},
   "outputs": [],
   "source": [
    "# Selecionando somente as instâncias da cidade de Uberlândia\n",
    "dataset = dataset.query(\"DDD_Origem == 34 & DDD_Destino == 34\")"
   ]
  },
  {
   "cell_type": "code",
   "execution_count": 4,
   "id": "784a8329-3a0b-4602-b737-87a872ebb832",
   "metadata": {},
   "outputs": [
    {
     "data": {
      "text/html": [
       "<div>\n",
       "<style scoped>\n",
       "    .dataframe tbody tr th:only-of-type {\n",
       "        vertical-align: middle;\n",
       "    }\n",
       "\n",
       "    .dataframe tbody tr th {\n",
       "        vertical-align: top;\n",
       "    }\n",
       "\n",
       "    .dataframe thead th {\n",
       "        text-align: right;\n",
       "    }\n",
       "</style>\n",
       "<table border=\"1\" class=\"dataframe\">\n",
       "  <thead>\n",
       "    <tr style=\"text-align: right;\">\n",
       "      <th></th>\n",
       "      <th>Data</th>\n",
       "      <th>Hora</th>\n",
       "      <th>Duração</th>\n",
       "      <th>ID_Origem</th>\n",
       "      <th>ID_Destino</th>\n",
       "      <th>Antena</th>\n",
       "    </tr>\n",
       "  </thead>\n",
       "  <tbody>\n",
       "    <tr>\n",
       "      <th>3</th>\n",
       "      <td>2013-04-16</td>\n",
       "      <td>08:17:51</td>\n",
       "      <td>0.28</td>\n",
       "      <td>5E951582ACEB9E81E5786A28866C49CA</td>\n",
       "      <td>8CE7D690FAFE920D02B8C67E0E4B3279</td>\n",
       "      <td>55162</td>\n",
       "    </tr>\n",
       "    <tr>\n",
       "      <th>5</th>\n",
       "      <td>2013-04-16</td>\n",
       "      <td>18:47:31</td>\n",
       "      <td>0.37</td>\n",
       "      <td>BCE396FCD91103EA5F34A75CA2CB30ED</td>\n",
       "      <td>CB9016B4905F230F7342D9F45EC1388B</td>\n",
       "      <td>55003</td>\n",
       "    </tr>\n",
       "    <tr>\n",
       "      <th>7</th>\n",
       "      <td>2013-04-16</td>\n",
       "      <td>17:24:23</td>\n",
       "      <td>0.37</td>\n",
       "      <td>78FE6A121B5BE5D5C64FDD03CB51A8BF</td>\n",
       "      <td>13461BE1EA1695078BDB2ADC8FE3D45F</td>\n",
       "      <td>56073</td>\n",
       "    </tr>\n",
       "  </tbody>\n",
       "</table>\n",
       "</div>"
      ],
      "text/plain": [
       "         Data      Hora  Duração                         ID_Origem  \\\n",
       "3  2013-04-16  08:17:51     0.28  5E951582ACEB9E81E5786A28866C49CA   \n",
       "5  2013-04-16  18:47:31     0.37  BCE396FCD91103EA5F34A75CA2CB30ED   \n",
       "7  2013-04-16  17:24:23     0.37  78FE6A121B5BE5D5C64FDD03CB51A8BF   \n",
       "\n",
       "                         ID_Destino  Antena  \n",
       "3  8CE7D690FAFE920D02B8C67E0E4B3279   55162  \n",
       "5  CB9016B4905F230F7342D9F45EC1388B   55003  \n",
       "7  13461BE1EA1695078BDB2ADC8FE3D45F   56073  "
      ]
     },
     "execution_count": 4,
     "metadata": {},
     "output_type": "execute_result"
    }
   ],
   "source": [
    "# Remoção de instâncias duplicadas e colunas inúteis.\n",
    "dataset.drop_duplicates(inplace=True)\n",
    "dataset.drop(['Vazio', 'X', 'ID_Tipo_Ligação', 'Abrangência_Ligação', 'DDD_Destino', 'DDD_Origem', 'Operadora_Antena_Origem', 'Operadora_Antena_Destino', 'Categoria_USER'], \n",
    "             axis=1, inplace=True)\n",
    "dataset.head(3)"
   ]
  },
  {
   "cell_type": "code",
   "execution_count": 5,
   "id": "d6fd11e0-c833-4858-a1dc-8feda27b456b",
   "metadata": {},
   "outputs": [
    {
     "data": {
      "text/plain": [
       "(8550326, 6)"
      ]
     },
     "execution_count": 5,
     "metadata": {},
     "output_type": "execute_result"
    }
   ],
   "source": [
    "# Selecionando as ligações com duração maiores que 5 segundos\n",
    "dataset = dataset.query(\"Duração >= 0.08\")\n",
    "dataset.shape"
   ]
  },
  {
   "cell_type": "code",
   "execution_count": 6,
   "id": "acf54a75-d1aa-4ca8-ace1-dae2ccbb4790",
   "metadata": {},
   "outputs": [],
   "source": [
    "dataset = dataset.groupby(['ID_Origem', 'ID_Destino']).filter(lambda x: len(x) >= 4)"
   ]
  },
  {
   "cell_type": "code",
   "execution_count": 7,
   "id": "68892723-7c00-4081-9991-b7b138edcfc0",
   "metadata": {},
   "outputs": [
    {
     "data": {
      "text/plain": [
       "ID_Origem\n",
       "73C3FDDC32DCC86A635736D52ED6E926    600\n",
       "A21FA95345C78B6AB1B13772EFE5F07D    599\n",
       "337860BFD27EE3BAF887FED29FAAE30C    599\n",
       "539B963DA8412693185F67D92AC81123    598\n",
       "4E5062F097341C93B13322EFE5D79FBD    597\n",
       "                                   ... \n",
       "A4D5F7734ED0E0F03F9C9ADB275B7FAB      4\n",
       "F2EC65F66773BC672355A9D5CE452645      4\n",
       "EC8F606B76B40524FEB4621B638FCEB7      4\n",
       "ECD23CCFC5AED7B429C98FF6BF4C691B      4\n",
       "CEDCFDDBB5B8B16DDADA31B319E292A2      4\n",
       "Name: count, Length: 96872, dtype: int64"
      ]
     },
     "execution_count": 7,
     "metadata": {},
     "output_type": "execute_result"
    }
   ],
   "source": [
    "agrup_origem = dataset.groupby(by='ID_Origem').filter(lambda x: len(x) <= 600)['ID_Origem']\n",
    "agrup_origem.value_counts()"
   ]
  },
  {
   "cell_type": "code",
   "execution_count": 8,
   "id": "8daa9bfb-10ff-4ff2-8bfe-88444e298eab",
   "metadata": {},
   "outputs": [
    {
     "data": {
      "text/plain": [
       "ID_Destino\n",
       "1A840656D92000C6511A8D4A27195D92    595\n",
       "7E3CAF35849CC8CFB402CE6C72C7FAE8    591\n",
       "4B316FC6AD62E411532F19CD97DA490F    585\n",
       "E34B9D3F30F27CF15B232332A52C5355    585\n",
       "DA4F8B454B19AE3EB890C37E6A53DE63    583\n",
       "                                   ... \n",
       "925F0DEBE20206DE0C50CC1590EA9888      4\n",
       "45D4552DC6BED295C0B9210D7422C91D      4\n",
       "84F37CC8E65AC7E00C072F55944154C8      4\n",
       "2DF860176FB154C80913633616CDA078      4\n",
       "F0D8DF483DA7C7D98C864B056424CB88      4\n",
       "Name: count, Length: 234695, dtype: int64"
      ]
     },
     "execution_count": 8,
     "metadata": {},
     "output_type": "execute_result"
    }
   ],
   "source": [
    "agrup_destino = dataset.groupby(by='ID_Destino').filter(lambda x: len(x) <= 600)['ID_Destino']\n",
    "agrup_destino.value_counts()"
   ]
  },
  {
   "cell_type": "code",
   "execution_count": 9,
   "id": "1a502d99-e2fa-4066-838b-991991574b77",
   "metadata": {},
   "outputs": [
    {
     "data": {
      "text/plain": [
       "254634"
      ]
     },
     "execution_count": 9,
     "metadata": {},
     "output_type": "execute_result"
    }
   ],
   "source": [
    "# Todos os IDs que fizeram ou receberam mais de 4 ligações\n",
    "nos = np.unique(np.append(agrup_origem, agrup_destino))\n",
    "len(nos)"
   ]
  },
  {
   "cell_type": "code",
   "execution_count": 10,
   "id": "fcead2a8-c01a-43f3-b246-e7001e41227d",
   "metadata": {},
   "outputs": [
    {
     "data": {
      "text/plain": [
       "(6038019, 6)"
      ]
     },
     "execution_count": 10,
     "metadata": {},
     "output_type": "execute_result"
    }
   ],
   "source": [
    "dataset = dataset.query(\"ID_Origem in @nos | ID_Destino in @nos\")\n",
    "dataset.shape"
   ]
  },
  {
   "cell_type": "code",
   "execution_count": 11,
   "id": "abcf59ef-e46e-4293-93ca-81a0004657c7",
   "metadata": {},
   "outputs": [],
   "source": [
    "dataset.to_csv('cdr_processed_Uberlândia.csv', index=False)"
   ]
  }
 ],
 "metadata": {
  "kernelspec": {
   "display_name": "Python 3 (ipykernel)",
   "language": "python",
   "name": "python3"
  },
  "language_info": {
   "codemirror_mode": {
    "name": "ipython",
    "version": 3
   },
   "file_extension": ".py",
   "mimetype": "text/x-python",
   "name": "python",
   "nbconvert_exporter": "python",
   "pygments_lexer": "ipython3",
   "version": "3.11.7"
  }
 },
 "nbformat": 4,
 "nbformat_minor": 5
}

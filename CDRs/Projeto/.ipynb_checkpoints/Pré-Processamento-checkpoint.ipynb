{
 "cells": [
  {
   "cell_type": "code",
   "execution_count": 1,
   "id": "4a071beb-48fe-4ede-a1f8-1fe00ac87c59",
   "metadata": {},
   "outputs": [],
   "source": [
    "import pandas as pd\n",
    "import numpy as np"
   ]
  },
  {
   "cell_type": "code",
   "execution_count": 2,
   "id": "c1f8df29-b6e2-4655-8e3b-a775f12b8d1b",
   "metadata": {},
   "outputs": [],
   "source": [
    "# Importação dos Dados\n",
    "names=['Data', 'Hora', 'Duração', 'DDD_Origem', 'ID_Origem', 'DDD_Destino', 'ID_Destino', 'Antena', 'Vazio', 'ID_Tipo_Ligação', 'Abrangência_Ligação', 'Operadora_Antena_Origem', 'Operadora_Antena_Destino', 'Categoria_USER', 'X']\n",
    "dataset = pd.read_csv('../Dados/cdr_Uberlândia.txt', sep=';', names=names)"
   ]
  },
  {
   "cell_type": "code",
   "execution_count": 3,
   "id": "784a8329-3a0b-4602-b737-87a872ebb832",
   "metadata": {},
   "outputs": [
    {
     "data": {
      "text/html": [
       "<div>\n",
       "<style scoped>\n",
       "    .dataframe tbody tr th:only-of-type {\n",
       "        vertical-align: middle;\n",
       "    }\n",
       "\n",
       "    .dataframe tbody tr th {\n",
       "        vertical-align: top;\n",
       "    }\n",
       "\n",
       "    .dataframe thead th {\n",
       "        text-align: right;\n",
       "    }\n",
       "</style>\n",
       "<table border=\"1\" class=\"dataframe\">\n",
       "  <thead>\n",
       "    <tr style=\"text-align: right;\">\n",
       "      <th></th>\n",
       "      <th>Data</th>\n",
       "      <th>Hora</th>\n",
       "      <th>Duração</th>\n",
       "      <th>ID_Origem</th>\n",
       "      <th>ID_Destino</th>\n",
       "      <th>Antena</th>\n",
       "    </tr>\n",
       "  </thead>\n",
       "  <tbody>\n",
       "    <tr>\n",
       "      <th>0</th>\n",
       "      <td>2013-04-16</td>\n",
       "      <td>08:10:26</td>\n",
       "      <td>0.55</td>\n",
       "      <td>F28A7CC2643468F06C81510658872E07</td>\n",
       "      <td>4EB08BB3316C38C499820B95DF87A725</td>\n",
       "      <td>55061</td>\n",
       "    </tr>\n",
       "    <tr>\n",
       "      <th>1</th>\n",
       "      <td>2013-04-16</td>\n",
       "      <td>13:38:23</td>\n",
       "      <td>0.77</td>\n",
       "      <td>565580EB8FDD16750497A4565ECDBFF8</td>\n",
       "      <td>C6C73DC14A20986650521214ADD8537D</td>\n",
       "      <td>55021</td>\n",
       "    </tr>\n",
       "    <tr>\n",
       "      <th>2</th>\n",
       "      <td>2013-04-16</td>\n",
       "      <td>09:18:36</td>\n",
       "      <td>4.05</td>\n",
       "      <td>565580EB8FDD16750497A4565ECDBFF8</td>\n",
       "      <td>C6C73DC14A20986650521214ADD8537D</td>\n",
       "      <td>55021</td>\n",
       "    </tr>\n",
       "  </tbody>\n",
       "</table>\n",
       "</div>"
      ],
      "text/plain": [
       "         Data      Hora  Duração                         ID_Origem  \\\n",
       "0  2013-04-16  08:10:26     0.55  F28A7CC2643468F06C81510658872E07   \n",
       "1  2013-04-16  13:38:23     0.77  565580EB8FDD16750497A4565ECDBFF8   \n",
       "2  2013-04-16  09:18:36     4.05  565580EB8FDD16750497A4565ECDBFF8   \n",
       "\n",
       "                         ID_Destino  Antena  \n",
       "0  4EB08BB3316C38C499820B95DF87A725   55061  \n",
       "1  C6C73DC14A20986650521214ADD8537D   55021  \n",
       "2  C6C73DC14A20986650521214ADD8537D   55021  "
      ]
     },
     "execution_count": 3,
     "metadata": {},
     "output_type": "execute_result"
    }
   ],
   "source": [
    "# Remoção de instâncias duplicadas e colunas inúteis.\n",
    "dataset.drop_duplicates(inplace=True)\n",
    "dataset.drop(['Vazio', 'X', 'ID_Tipo_Ligação', 'Abrangência_Ligação', 'DDD_Destino', 'DDD_Origem', 'Operadora_Antena_Origem', 'Operadora_Antena_Destino', 'Categoria_USER'], \n",
    "             axis=1, inplace=True)\n",
    "dataset.head(3)"
   ]
  },
  {
   "cell_type": "code",
   "execution_count": 4,
   "id": "d6fd11e0-c833-4858-a1dc-8feda27b456b",
   "metadata": {},
   "outputs": [
    {
     "data": {
      "text/plain": [
       "(13792553, 6)"
      ]
     },
     "execution_count": 4,
     "metadata": {},
     "output_type": "execute_result"
    }
   ],
   "source": [
    "# Selecionando as ligações com duração maiores que 10 segundos\n",
    "dataset = dataset[dataset['Duração'] >= 0.16]\n",
    "dataset.shape"
   ]
  },
  {
   "cell_type": "code",
   "execution_count": 5,
   "id": "acf54a75-d1aa-4ca8-ace1-dae2ccbb4790",
   "metadata": {},
   "outputs": [],
   "source": [
    "dataset = dataset.groupby(['ID_Origem', 'ID_Destino']).filter(lambda x: len(x) >= 5)"
   ]
  },
  {
   "cell_type": "code",
   "execution_count": 6,
   "id": "68892723-7c00-4081-9991-b7b138edcfc0",
   "metadata": {},
   "outputs": [
    {
     "data": {
      "text/plain": [
       "ID_Origem\n",
       "98CFB759D141A2C9A554E93D9C262B3A    500\n",
       "A79A70BDF9FC444794B5AE88B93F23F8    500\n",
       "F6730452DB5B2D6C2683DFDEEB850C96    499\n",
       "A91057B79D052FE07C0690F20838DD0A    499\n",
       "161FB4ADAEA6AD07D766D012632D2423    499\n",
       "                                   ... \n",
       "659F2025A58FD196A6D9E0EBD299E46C      5\n",
       "FC22CF9F1F3B1C160C3C17963156E021      5\n",
       "DC31D62949DA791A474013C546EACF4B      5\n",
       "E5EF4FFF1DF0DF9CFF69F6A3016F71E3      5\n",
       "3C1ACC5E015475DE21FDF1B95E1B9361      5\n",
       "Name: count, Length: 162263, dtype: int64"
      ]
     },
     "execution_count": 6,
     "metadata": {},
     "output_type": "execute_result"
    }
   ],
   "source": [
    "agrup_origem = dataset.groupby(by='ID_Origem').filter(lambda x: len(x) <= 500)['ID_Origem']\n",
    "agrup_origem.value_counts()"
   ]
  },
  {
   "cell_type": "code",
   "execution_count": 7,
   "id": "8daa9bfb-10ff-4ff2-8bfe-88444e298eab",
   "metadata": {},
   "outputs": [
    {
     "data": {
      "text/plain": [
       "ID_Destino\n",
       "7056934EAF493D57292F19D72485FFC6    491\n",
       "06BFBD16BC9FE948D8AEA8202687A4FA    488\n",
       "673D347524730EEE06BF69FD5AE89AA1    478\n",
       "9911566765F9CFC25B46156409560204    476\n",
       "EFD0779920C36ADD5A323011B752EE68    470\n",
       "                                   ... \n",
       "536557B4CB993719D5BBF92CC03DC469      5\n",
       "8DF631D1DDE95031FB84078028E680C5      5\n",
       "98DCEE79720DCA8936A420EAFA7083A9      5\n",
       "ECA030E7D2640773FA0EAFF215FDB157      5\n",
       "9C481C23251264799C3637AE478DE70C      5\n",
       "Name: count, Length: 338810, dtype: int64"
      ]
     },
     "execution_count": 7,
     "metadata": {},
     "output_type": "execute_result"
    }
   ],
   "source": [
    "agrup_destino = dataset.groupby(by='ID_Destino').filter(lambda x: len(x) <= 500)['ID_Destino']\n",
    "agrup_destino.value_counts()"
   ]
  },
  {
   "cell_type": "code",
   "execution_count": 8,
   "id": "1a502d99-e2fa-4066-838b-991991574b77",
   "metadata": {},
   "outputs": [
    {
     "data": {
      "text/plain": [
       "387894"
      ]
     },
     "execution_count": 8,
     "metadata": {},
     "output_type": "execute_result"
    }
   ],
   "source": [
    "# Todos os IDs que fizeram ou receberam mais de 5 ligações\n",
    "nos = np.unique(np.append(agrup_origem, agrup_destino))\n",
    "len(nos)"
   ]
  },
  {
   "cell_type": "code",
   "execution_count": 9,
   "id": "fcead2a8-c01a-43f3-b246-e7001e41227d",
   "metadata": {},
   "outputs": [
    {
     "data": {
      "text/plain": [
       "(8171158, 6)"
      ]
     },
     "execution_count": 9,
     "metadata": {},
     "output_type": "execute_result"
    }
   ],
   "source": [
    "dataset = dataset.query(\"ID_Origem in @nos | ID_Destino in @nos\")\n",
    "dataset.shape"
   ]
  },
  {
   "cell_type": "code",
   "execution_count": 10,
   "id": "abcf59ef-e46e-4293-93ca-81a0004657c7",
   "metadata": {},
   "outputs": [],
   "source": [
    "dataset.to_csv('cdr_processed_Uberlândia.csv', index=False)"
   ]
  }
 ],
 "metadata": {
  "kernelspec": {
   "display_name": "Python 3 (ipykernel)",
   "language": "python",
   "name": "python3"
  },
  "language_info": {
   "codemirror_mode": {
    "name": "ipython",
    "version": 3
   },
   "file_extension": ".py",
   "mimetype": "text/x-python",
   "name": "python",
   "nbconvert_exporter": "python",
   "pygments_lexer": "ipython3",
   "version": "3.11.7"
  }
 },
 "nbformat": 4,
 "nbformat_minor": 5
}

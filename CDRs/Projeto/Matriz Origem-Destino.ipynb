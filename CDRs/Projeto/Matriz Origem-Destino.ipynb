{
 "cells": [
  {
   "cell_type": "markdown",
   "id": "65c6f2e8-5e0f-4748-b0d8-48b3ce4ddbbd",
   "metadata": {},
   "source": [
    "# <font color='red' style='font-size: 30px;'> Matriz Origem-Destino</font>\n",
    "<hr style='border: 2px solid red;'>"
   ]
  },
  {
   "cell_type": "markdown",
   "id": "4023d21e-53de-4c1f-ad9b-fb2673729317",
   "metadata": {},
   "source": [
    "## <font color = 'black' style='font-size: 26px;'> Imports </font>  \n",
    "<hr style = 'border: 1.5px solid black;'>"
   ]
  },
  {
   "cell_type": "code",
   "execution_count": 3,
   "id": "95254a16",
   "metadata": {},
   "outputs": [],
   "source": [
    "import pandas as pd\n",
    "import networkx as nx\n",
    "import random\n",
    "import numpy as np\n",
    "from functions import save_with_pickle, load_with_pickle\n",
    "AMOSTRAGEM = True"
   ]
  },
  {
   "cell_type": "markdown",
   "id": "c9733cde-c07e-424c-bcf5-2a12e6574407",
   "metadata": {},
   "source": [
    "## <font color = 'black' style='font-size: 26px;'> Importando os Dados </font>  \n",
    "<hr style = 'border: 1.5px solid black;'>"
   ]
  },
  {
   "cell_type": "code",
   "execution_count": 5,
   "id": "15cd591a-d317-41a6-be21-2904dc009a8f",
   "metadata": {},
   "outputs": [],
   "source": [
    "# Importação dos Dados\n",
    "dataset = pd.read_csv('../Dados/cdr_processed_Uberlândia.csv', sep=',')"
   ]
  },
  {
   "cell_type": "code",
   "execution_count": 6,
   "id": "987d07eb-e554-4076-be4b-2bd314f149ff",
   "metadata": {},
   "outputs": [],
   "source": [
    "# Convertendo as horas paras datetime\n",
    "dataset['Hora'] = pd.to_datetime(dataset['Hora'], format='%H:%M:%S').dt.hour"
   ]
  },
  {
   "cell_type": "code",
   "execution_count": 7,
   "id": "938a8690-b140-4a92-b15c-8ebee3e1099c",
   "metadata": {},
   "outputs": [],
   "source": [
    "# Lendo os IDs encontrados pela camada de relacionamentos\n",
    "if AMOSTRAGEM:\n",
    "    nos = load_with_pickle('../Dados/Processados/', 'amostragem_nos')\n",
    "else:\n",
    "    nos = load_with_pickle('../Dados/Processados/', 'nos')"
   ]
  },
  {
   "cell_type": "code",
   "execution_count": 8,
   "id": "a9c49f0b-67a3-4e94-9b79-1ed027e715dd",
   "metadata": {},
   "outputs": [],
   "source": [
    "# Selecionando esses IDs\n",
    "dataset = dataset.query(\"ID_Origem in @nos | ID_Destino in @nos\")"
   ]
  },
  {
   "cell_type": "markdown",
   "id": "e4703266-c4b0-4f34-937f-3f915d2a300d",
   "metadata": {},
   "source": [
    "## <font color = 'black' style='font-size: 26px;'> Identificando o Local da Residência </font>  \n",
    "<hr style = 'border: 1.5px solid black;'>"
   ]
  },
  {
   "cell_type": "code",
   "execution_count": 10,
   "id": "72b4c1ae-3b25-41df-8fca-80a0a7137cea",
   "metadata": {},
   "outputs": [],
   "source": [
    "# CDRs referentes ao horário de lazer\n",
    "weekend = ['2013-03-23', '2013-03-24', '2013-03-30', '2013-03-31', '2013-04-06', '2013-04-07', '2013-04-13', '2013-04-14']\n",
    "df_non_business = dataset.query(\"Data in @weekend | (Hora <= 6 | Hora >= 18) \")"
   ]
  },
  {
   "cell_type": "code",
   "execution_count": 11,
   "id": "15af21dc-154a-4f54-aa3b-bf63e07933cc",
   "metadata": {},
   "outputs": [],
   "source": [
    "# Agrupa por 'ID_Origem' e 'Antena' e conta a frequência de cada combinação\n",
    "antenna_counts = df_non_business.groupby(['ID_Origem', 'Antena']).size().reset_index(name='Count')"
   ]
  },
  {
   "cell_type": "code",
   "execution_count": 12,
   "id": "03e33311-e308-4b5b-aa85-8fa24f62445b",
   "metadata": {},
   "outputs": [
    {
     "data": {
      "text/html": [
       "<div>\n",
       "<style scoped>\n",
       "    .dataframe tbody tr th:only-of-type {\n",
       "        vertical-align: middle;\n",
       "    }\n",
       "\n",
       "    .dataframe tbody tr th {\n",
       "        vertical-align: top;\n",
       "    }\n",
       "\n",
       "    .dataframe thead th {\n",
       "        text-align: right;\n",
       "    }\n",
       "</style>\n",
       "<table border=\"1\" class=\"dataframe\">\n",
       "  <thead>\n",
       "    <tr style=\"text-align: right;\">\n",
       "      <th></th>\n",
       "      <th>ID_Origem</th>\n",
       "      <th>Antena Residência</th>\n",
       "    </tr>\n",
       "  </thead>\n",
       "  <tbody>\n",
       "    <tr>\n",
       "      <th>0</th>\n",
       "      <td>0000EE5D4A6F13B1261E28A4966BCA5C</td>\n",
       "      <td>55041</td>\n",
       "    </tr>\n",
       "    <tr>\n",
       "      <th>1</th>\n",
       "      <td>000104EF060CD662A767A7225AAA768C</td>\n",
       "      <td>25023</td>\n",
       "    </tr>\n",
       "    <tr>\n",
       "      <th>7</th>\n",
       "      <td>00010E9AD6FE94A7C878FFBA2EE9FC38</td>\n",
       "      <td>55353</td>\n",
       "    </tr>\n",
       "  </tbody>\n",
       "</table>\n",
       "</div>"
      ],
      "text/plain": [
       "                          ID_Origem  Antena Residência\n",
       "0  0000EE5D4A6F13B1261E28A4966BCA5C              55041\n",
       "1  000104EF060CD662A767A7225AAA768C              25023\n",
       "7  00010E9AD6FE94A7C878FFBA2EE9FC38              55353"
      ]
     },
     "execution_count": 12,
     "metadata": {},
     "output_type": "execute_result"
    }
   ],
   "source": [
    "# Encontra a 'Antena' mais utilizada para cada 'ID_Origem'\n",
    "residence_antenas = antenna_counts.loc[antenna_counts.groupby('ID_Origem')['Count'].idxmax()]\n",
    "residence_antenas.rename(columns={'Antena' : 'Antena Residência'}, inplace=True)\n",
    "residence_antenas.drop(columns=['Count'], inplace=True)\n",
    "residence_antenas.head(3)"
   ]
  },
  {
   "cell_type": "markdown",
   "id": "ef74ab5c-fee7-4bb4-912b-b9156657d545",
   "metadata": {},
   "source": [
    "## <font color = 'black' style='font-size: 26px;'> Matriz Origem-Destino </font>  \n",
    "<hr style = 'border: 1.5px solid black;'>"
   ]
  },
  {
   "cell_type": "code",
   "execution_count": 14,
   "id": "6f4aaf2a-d7db-48cc-9785-9a0e3bf937b5",
   "metadata": {},
   "outputs": [],
   "source": [
    "# Selecionando os dados de segunda a sexta\n",
    "count_calls_antennas = dataset.query(\"Data not in @weekend\")"
   ]
  },
  {
   "cell_type": "code",
   "execution_count": 15,
   "id": "aa189d69-0eea-40a4-ab72-72b38c884e79",
   "metadata": {},
   "outputs": [],
   "source": [
    "# Contagem de ligações feitas em cada antena\n",
    "count_calls_antennas = dataset.groupby(['ID_Origem', 'Antena']).size().reset_index(name='Count')\n",
    "count_calls_antennas.drop(columns=['Count'], inplace=True)"
   ]
  },
  {
   "cell_type": "code",
   "execution_count": 16,
   "id": "6893ce74-1556-4eb4-8476-290f58a833a9",
   "metadata": {},
   "outputs": [
    {
     "data": {
      "text/html": [
       "<div>\n",
       "<style scoped>\n",
       "    .dataframe tbody tr th:only-of-type {\n",
       "        vertical-align: middle;\n",
       "    }\n",
       "\n",
       "    .dataframe tbody tr th {\n",
       "        vertical-align: top;\n",
       "    }\n",
       "\n",
       "    .dataframe thead th {\n",
       "        text-align: right;\n",
       "    }\n",
       "</style>\n",
       "<table border=\"1\" class=\"dataframe\">\n",
       "  <thead>\n",
       "    <tr style=\"text-align: right;\">\n",
       "      <th></th>\n",
       "      <th>ID_Origem</th>\n",
       "      <th>Antena</th>\n",
       "      <th>Antena Residência</th>\n",
       "    </tr>\n",
       "  </thead>\n",
       "  <tbody>\n",
       "    <tr>\n",
       "      <th>0</th>\n",
       "      <td>0000EE5D4A6F13B1261E28A4966BCA5C</td>\n",
       "      <td>55032</td>\n",
       "      <td>55041</td>\n",
       "    </tr>\n",
       "    <tr>\n",
       "      <th>1</th>\n",
       "      <td>0000EE5D4A6F13B1261E28A4966BCA5C</td>\n",
       "      <td>55041</td>\n",
       "      <td>55041</td>\n",
       "    </tr>\n",
       "    <tr>\n",
       "      <th>2</th>\n",
       "      <td>000104EF060CD662A767A7225AAA768C</td>\n",
       "      <td>25023</td>\n",
       "      <td>25023</td>\n",
       "    </tr>\n",
       "    <tr>\n",
       "      <th>3</th>\n",
       "      <td>000104EF060CD662A767A7225AAA768C</td>\n",
       "      <td>55132</td>\n",
       "      <td>25023</td>\n",
       "    </tr>\n",
       "    <tr>\n",
       "      <th>4</th>\n",
       "      <td>000104EF060CD662A767A7225AAA768C</td>\n",
       "      <td>55243</td>\n",
       "      <td>25023</td>\n",
       "    </tr>\n",
       "    <tr>\n",
       "      <th>5</th>\n",
       "      <td>000104EF060CD662A767A7225AAA768C</td>\n",
       "      <td>56041</td>\n",
       "      <td>25023</td>\n",
       "    </tr>\n",
       "    <tr>\n",
       "      <th>6</th>\n",
       "      <td>000104EF060CD662A767A7225AAA768C</td>\n",
       "      <td>56282</td>\n",
       "      <td>25023</td>\n",
       "    </tr>\n",
       "    <tr>\n",
       "      <th>7</th>\n",
       "      <td>00010E9AD6FE94A7C878FFBA2EE9FC38</td>\n",
       "      <td>55351</td>\n",
       "      <td>55353</td>\n",
       "    </tr>\n",
       "    <tr>\n",
       "      <th>8</th>\n",
       "      <td>00010E9AD6FE94A7C878FFBA2EE9FC38</td>\n",
       "      <td>55353</td>\n",
       "      <td>55353</td>\n",
       "    </tr>\n",
       "    <tr>\n",
       "      <th>9</th>\n",
       "      <td>0002448B2A2A138F154E6E90C6D23232</td>\n",
       "      <td>55012</td>\n",
       "      <td>56052</td>\n",
       "    </tr>\n",
       "  </tbody>\n",
       "</table>\n",
       "</div>"
      ],
      "text/plain": [
       "                          ID_Origem  Antena  Antena Residência\n",
       "0  0000EE5D4A6F13B1261E28A4966BCA5C   55032              55041\n",
       "1  0000EE5D4A6F13B1261E28A4966BCA5C   55041              55041\n",
       "2  000104EF060CD662A767A7225AAA768C   25023              25023\n",
       "3  000104EF060CD662A767A7225AAA768C   55132              25023\n",
       "4  000104EF060CD662A767A7225AAA768C   55243              25023\n",
       "5  000104EF060CD662A767A7225AAA768C   56041              25023\n",
       "6  000104EF060CD662A767A7225AAA768C   56282              25023\n",
       "7  00010E9AD6FE94A7C878FFBA2EE9FC38   55351              55353\n",
       "8  00010E9AD6FE94A7C878FFBA2EE9FC38   55353              55353\n",
       "9  0002448B2A2A138F154E6E90C6D23232   55012              56052"
      ]
     },
     "execution_count": 16,
     "metadata": {},
     "output_type": "execute_result"
    }
   ],
   "source": [
    "count_calls_antennas = pd.merge(count_calls_antennas, residence_antenas, on=['ID_Origem'], how='inner', indicator=False)\n",
    "count_calls_antennas.head(10)"
   ]
  },
  {
   "cell_type": "code",
   "execution_count": 17,
   "id": "b73d9f7d-a379-4d3a-9ed0-7f8760fc007b",
   "metadata": {},
   "outputs": [],
   "source": [
    "matrix_OD = dict()\n",
    "\n",
    "for residence in count_calls_antennas['Antena Residência'].unique():\n",
    "    matrix_OD[residence] = dict()"
   ]
  },
  {
   "cell_type": "code",
   "execution_count": 18,
   "id": "7154ffc3-cd5b-45e6-9c60-578b4631619f",
   "metadata": {},
   "outputs": [],
   "source": [
    "for _, row in count_calls_antennas.iterrows():\n",
    "    if not row['Antena'] in matrix_OD[row['Antena Residência']].keys():\n",
    "        matrix_OD[row['Antena Residência']][row['Antena']] = [row['ID_Origem']]\n",
    "    else:\n",
    "        matrix_OD[row['Antena Residência']][row['Antena']].append(row['ID_Origem'])"
   ]
  },
  {
   "cell_type": "code",
   "execution_count": 19,
   "id": "c23cf17c-7220-45f2-959b-f678883109bf",
   "metadata": {},
   "outputs": [],
   "source": [
    "save_with_pickle(matrix_OD, '../Dados/Processados/', 'matriz_OD')"
   ]
  },
  {
   "cell_type": "markdown",
   "id": "333a03f1-b7ae-4c41-9972-4e39ad7a7920",
   "metadata": {},
   "source": [
    "## <font color = 'black' style='font-size: 26px;'> Criando a Camada </font>  \n",
    "<hr style = 'border: 1.5px solid black;'>"
   ]
  },
  {
   "cell_type": "code",
   "execution_count": 21,
   "id": "71610e55-25e3-41f9-969c-36e17154f04b",
   "metadata": {},
   "outputs": [],
   "source": [
    "public_transport_users = list(count_calls_antennas['ID_Origem'].unique())\n",
    "public_transport_users = random.sample(public_transport_users, int(len(public_transport_users)*0.5))"
   ]
  },
  {
   "cell_type": "code",
   "execution_count": 22,
   "id": "e31a3c90-dc3f-4bf9-8d55-11204239e522",
   "metadata": {},
   "outputs": [],
   "source": [
    "def cria_arestas(grafo, lista_nos, prob_criacao_arestas, nome_aresta, peso):\n",
    "    \n",
    "    # Cria arestas entre todos os nós da lista\n",
    "    for i in range(len(lista_nos) - 1):\n",
    "        for j in range(i + 1, len(lista_nos)):\n",
    "            if random.random() < prob_criacao_arestas:\n",
    "                if not grafo.has_edge(lista_nos[i], lista_nos[j]):\n",
    "                    grafo.add_edge(lista_nos[i], lista_nos[j])\n",
    "                nx.set_edge_attributes(grafo, {(lista_nos[i], lista_nos[j]):{nome_aresta:peso}})\n",
    "    return grafo"
   ]
  },
  {
   "cell_type": "code",
   "execution_count": 23,
   "id": "0918f4b4-e52f-4350-8a8f-f302cef44573",
   "metadata": {},
   "outputs": [],
   "source": [
    "def gera_camada_matrizOD(grafo, nos, matriz_OD, porc_transporte, prob_criacao_arestas, nome_aresta, peso):\n",
    "\n",
    "    users_transporte_publico = random.sample(users_transporte_publico, int(len(users_transporte_publico)*porc_transporte))\n",
    "    for key1 in matriz_OD.keys():\n",
    "        for key2 in matriz_OD[key1].keys():\n",
    "            elementos_comuns = list(set(users_transporte_publico) & set(matriz_OD[key1][key2]))\n",
    "            grafo = cria_arestas(grafo, elementos_comuns, prob_criacao_arestas, nome_aresta, peso)\n",
    "    return grafo"
   ]
  }
 ],
 "metadata": {
  "kernelspec": {
   "display_name": "Python 3 (ipykernel)",
   "language": "python",
   "name": "python3"
  },
  "language_info": {
   "codemirror_mode": {
    "name": "ipython",
    "version": 3
   },
   "file_extension": ".py",
   "mimetype": "text/x-python",
   "name": "python",
   "nbconvert_exporter": "python",
   "pygments_lexer": "ipython3",
   "version": "3.11.7"
  }
 },
 "nbformat": 4,
 "nbformat_minor": 5
}

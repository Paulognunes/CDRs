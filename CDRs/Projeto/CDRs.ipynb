{
 "cells": [
  {
   "cell_type": "markdown",
   "id": "d605e716",
   "metadata": {},
   "source": [
    "# <font color='red' style='font-size: 30px;'> Rede Complexa Baseada em CDR's </font>\n",
    "<hr style='border: 2px solid red;'>"
   ]
  },
  {
   "cell_type": "markdown",
   "id": "a78f16c2",
   "metadata": {},
   "source": [
    "## <font color = 'black' style='font-size: 26px;'> Imports </font>  \n",
    "<hr style = 'border: 1.5px solid black;'>"
   ]
  },
  {
   "cell_type": "code",
   "execution_count": 3,
   "id": "e14f7343",
   "metadata": {
    "scrolled": true
   },
   "outputs": [],
   "source": [
    "# Lista de Imports\n",
    "import pandas as pd\n",
    "import numpy as np\n",
    "import networkx as nx\n",
    "from functions import save_with_pickle, load_with_pickle\n",
    "\n",
    "# Variáveis Globais\n",
    "EXECUTAR = True"
   ]
  },
  {
   "cell_type": "markdown",
   "id": "25d389ad",
   "metadata": {},
   "source": [
    "## <font color = 'black' style='font-size: 26px;'> Importando os Dados </font>  \n",
    "<hr style = 'border: 1.5px solid black;'>"
   ]
  },
  {
   "cell_type": "code",
   "execution_count": 5,
   "id": "cb56957f",
   "metadata": {},
   "outputs": [],
   "source": [
    "# Importação dos Dados\n",
    "dataset = pd.read_csv('../Dados/cdr_processed_Uberlândia.csv', sep=',')"
   ]
  },
  {
   "cell_type": "markdown",
   "id": "bacdb18d",
   "metadata": {},
   "source": [
    "## <font color = 'black' style='font-size: 26px;'> Realizando o Pré-Processamento </font>  \n",
    "<hr style = 'border: 1.5px solid black;'>"
   ]
  },
  {
   "cell_type": "code",
   "execution_count": 7,
   "id": "7493d7af",
   "metadata": {},
   "outputs": [
    {
     "data": {
      "text/plain": [
       "(7618927, 6)"
      ]
     },
     "execution_count": 7,
     "metadata": {},
     "output_type": "execute_result"
    }
   ],
   "source": [
    "# Selecionando as ligações com duração maiores que 15 segundos\n",
    "df = dataset[dataset['Duração'] >= 0.24]\n",
    "df.shape"
   ]
  },
  {
   "cell_type": "code",
   "execution_count": 8,
   "id": "1f82cefd",
   "metadata": {},
   "outputs": [
    {
     "data": {
      "text/plain": [
       "30"
      ]
     },
     "execution_count": 8,
     "metadata": {},
     "output_type": "execute_result"
    }
   ],
   "source": [
    "len(df['Data'].unique())"
   ]
  },
  {
   "cell_type": "code",
   "execution_count": 9,
   "id": "b5606dc6",
   "metadata": {},
   "outputs": [],
   "source": [
    "df = df.groupby(['ID_Origem', 'ID_Destino']).filter(lambda x: len(x) >= 5)"
   ]
  },
  {
   "cell_type": "code",
   "execution_count": 10,
   "id": "5916648c",
   "metadata": {},
   "outputs": [
    {
     "data": {
      "text/plain": [
       "ID_Origem\n",
       "B2601CCF8ECC76E3BB1C891F4D28C5CE    200\n",
       "B22F9C56D2E5AB59D613EE5FC8763F9A    200\n",
       "8B66A139CB2F2B08D1727D44C10EDDBA    200\n",
       "F60AEA943E44C5C252D28BCF160B65DC    200\n",
       "78366FC1DB0F774F313A7C7D80283F6C    200\n",
       "                                   ... \n",
       "33D67FFC9A6776899DB36961D412D95E      5\n",
       "0E137186B4EA9142FE278D5E7A82E3AE      5\n",
       "27FB14416E2296CCF3222B0F5B736111      5\n",
       "1527449E0CE5A9B1A3FCF691452961F7      5\n",
       "3C1ACC5E015475DE21FDF1B95E1B9361      5\n",
       "Name: count, Length: 153547, dtype: int64"
      ]
     },
     "execution_count": 10,
     "metadata": {},
     "output_type": "execute_result"
    }
   ],
   "source": [
    "agrup_origem = df.groupby(by='ID_Origem').filter(lambda x: len(x) <= 200)['ID_Origem']\n",
    "agrup_origem.value_counts()"
   ]
  },
  {
   "cell_type": "code",
   "execution_count": 11,
   "id": "47963e55",
   "metadata": {},
   "outputs": [
    {
     "data": {
      "text/plain": [
       "ID_Destino\n",
       "09D43014CAAAF12A3ACF83AD4DF6F8C2    200\n",
       "2BDFCA39518BFAE070908E54C0F8B4DF    200\n",
       "B9F6C3DBE1D3904D8EA498720C731352    200\n",
       "4BD86B6C8C715105D153D89B625EB932    200\n",
       "4D8429AC3DCF16B1599822470359909A    200\n",
       "                                   ... \n",
       "BB3A2509DB9F8479AB0F8B13BE933BA7      5\n",
       "19601781FF5CC6493DF4AC2165668E0C      5\n",
       "E2BC55280D7613A9CA20084D0DA58899      5\n",
       "A76A5B1E5F25691132153074AF8559C7      5\n",
       "9C481C23251264799C3637AE478DE70C      5\n",
       "Name: count, Length: 322422, dtype: int64"
      ]
     },
     "execution_count": 11,
     "metadata": {},
     "output_type": "execute_result"
    }
   ],
   "source": [
    "agrup_destino = df.groupby(by='ID_Destino').filter(lambda x: len(x) <= 200)['ID_Destino']\n",
    "agrup_destino.value_counts()"
   ]
  },
  {
   "cell_type": "code",
   "execution_count": 12,
   "id": "d862ad1a",
   "metadata": {},
   "outputs": [
    {
     "data": {
      "text/plain": [
       "372045"
      ]
     },
     "execution_count": 12,
     "metadata": {},
     "output_type": "execute_result"
    }
   ],
   "source": [
    "# Todos os IDs que fizeram ou receberam mais de 6 ligações\n",
    "nos = np.unique(np.append(agrup_origem, agrup_destino))\n",
    "save_with_pickle(nos, '../Dados/Processados/', 'nos')\n",
    "len(nos)"
   ]
  },
  {
   "cell_type": "code",
   "execution_count": 13,
   "id": "9a2ff58c",
   "metadata": {},
   "outputs": [
    {
     "data": {
      "text/plain": [
       "(7443440, 6)"
      ]
     },
     "execution_count": 13,
     "metadata": {},
     "output_type": "execute_result"
    }
   ],
   "source": [
    "df = df.query(\"ID_Origem in @nos | ID_Destino in @nos\")\n",
    "df.shape"
   ]
  },
  {
   "cell_type": "code",
   "execution_count": null,
   "id": "9a325d3c",
   "metadata": {},
   "outputs": [],
   "source": [
    "if EXECUTAR:    \n",
    "    # Instanciando o dicionário\n",
    "    users = {}\n",
    "    for ID in df['ID_Origem'].unique():\n",
    "        users[ID] = {'Ligações': list(), 'Data': list(), 'Hora': list(), 'Duração': list(), 'Antena': list()}\n",
    "        \n",
    "    # Agrupando as ligações em um dicionário    \n",
    "    for _, row in df.iterrows():\n",
    "        users[row['ID_Origem']]['Ligações'].append(row['ID_Destino'])\n",
    "        users[row['ID_Origem']]['Data'].append(row['Data'])\n",
    "        users[row['ID_Origem']]['Hora'].append(row['Hora'])\n",
    "        users[row['ID_Origem']]['Duração'].append(row['Duração'])\n",
    "        users[row['ID_Origem']]['Antena'].append(row['Antena'])\n",
    "    \n",
    "    # Salva o dicionário em um objeto pickle\n",
    "    save_with_pickle(users, '../Dados/Processados/', 'dict_dados')\n",
    "    \n",
    "else:\n",
    "    # Carrega o dicionário em um objeto pickle\n",
    "    users = load_with_pickle('../Dados/Processados/', 'dict_dados')"
   ]
  },
  {
   "cell_type": "markdown",
   "id": "81a6dace",
   "metadata": {},
   "source": [
    "## <font color = 'black' style='font-size: 26px;'> Criando a Rede </font>  \n",
    "<hr style = 'border: 1.5px solid black;'>"
   ]
  },
  {
   "cell_type": "code",
   "execution_count": null,
   "id": "918caa25",
   "metadata": {},
   "outputs": [],
   "source": [
    "def contabiliza_ligacoes(origem, destino, dicionario):\n",
    "    total = 0\n",
    "    if origem in dicionario:\n",
    "        total += dicionario[origem]['Ligações'].count(destino)\n",
    "        \n",
    "    if destino in dicionario:\n",
    "        total += dicionario[destino]['Ligações'].count(origem)\n",
    "        \n",
    "    return total    "
   ]
  },
  {
   "cell_type": "code",
   "execution_count": null,
   "id": "5f1ce8b0",
   "metadata": {},
   "outputs": [],
   "source": [
    "def inicializa_grafo(nos):\n",
    "    grafo = nx.Graph() \n",
    "    for i in nos:\n",
    "        grafo.add_node(i)\n",
    "    return grafo"
   ]
  },
  {
   "cell_type": "code",
   "execution_count": null,
   "id": "1011e4c5",
   "metadata": {},
   "outputs": [],
   "source": [
    "def cria_arestas(grafo, nos, dicionario):\n",
    "    \n",
    "    # Cria arestas entre todos os nós da lista\n",
    "    for i in dicionario.keys():\n",
    "        for j in dicionario[i]['Ligações']:\n",
    "            if not grafo.has_edge(i, j):\n",
    "                grafo.add_edge(i, j)\n",
    "    return grafo"
   ]
  },
  {
   "cell_type": "code",
   "execution_count": null,
   "id": "d6069962",
   "metadata": {},
   "outputs": [],
   "source": [
    "def gera_grafo(nos, dicionario):    \n",
    "    grafo = inicializa_grafo(nos)\n",
    "    grafo = cria_arestas(grafo, nos, dicionario)\n",
    "    return grafo"
   ]
  },
  {
   "cell_type": "code",
   "execution_count": null,
   "id": "c2d09512-3b62-4f79-8491-5f8aa93d84b6",
   "metadata": {},
   "outputs": [],
   "source": [
    "##### grafo = gera_grafo(nos, users)\n",
    "# nx.write_graphml(grafo, \"cdr_grafo.graphml\")"
   ]
  }
 ],
 "metadata": {
  "kernelspec": {
   "display_name": "Python 3 (ipykernel)",
   "language": "python",
   "name": "python3"
  },
  "language_info": {
   "codemirror_mode": {
    "name": "ipython",
    "version": 3
   },
   "file_extension": ".py",
   "mimetype": "text/x-python",
   "name": "python",
   "nbconvert_exporter": "python",
   "pygments_lexer": "ipython3",
   "version": "3.11.7"
  }
 },
 "nbformat": 4,
 "nbformat_minor": 5
}

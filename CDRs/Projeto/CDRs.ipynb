{
 "cells": [
  {
   "cell_type": "markdown",
   "id": "d605e716",
   "metadata": {},
   "source": [
    "# <font color='red' style='font-size: 30px;'> Rede Complexa Baseada em CDR's </font>\n",
    "<hr style='border: 2px solid red;'>"
   ]
  },
  {
   "cell_type": "markdown",
   "id": "a78f16c2",
   "metadata": {},
   "source": [
    "## <font color = 'black' style='font-size: 26px;'> Imports </font>  \n",
    "<hr style = 'border: 1.5px solid black;'>"
   ]
  },
  {
   "cell_type": "code",
   "execution_count": 3,
   "id": "e14f7343",
   "metadata": {
    "scrolled": true
   },
   "outputs": [],
   "source": [
    "# Lista de Imports\n",
    "import pandas as pd\n",
    "import numpy as np\n",
    "import networkx as nx\n",
    "import time\n",
    "from functions import save_with_pickle, load_with_pickle\n",
    "\n",
    "# Variáveis Globais\n",
    "EXECUTAR = True\n",
    "AMOSTRAGEM = True"
   ]
  },
  {
   "cell_type": "markdown",
   "id": "25d389ad",
   "metadata": {},
   "source": [
    "## <font color = 'black' style='font-size: 26px;'> Importando os Dados </font>  \n",
    "<hr style = 'border: 1.5px solid black;'>"
   ]
  },
  {
   "cell_type": "code",
   "execution_count": 5,
   "id": "cb56957f",
   "metadata": {},
   "outputs": [],
   "source": [
    "# Importação dos Dados\n",
    "dataset = pd.read_csv('../Dados/cdr_processed_Uberlândia.csv', sep=',')"
   ]
  },
  {
   "cell_type": "markdown",
   "id": "bacdb18d",
   "metadata": {},
   "source": [
    "## <font color = 'black' style='font-size: 26px;'> Realizando o Pré-Processamento </font>  \n",
    "<hr style = 'border: 1.5px solid black;'>"
   ]
  },
  {
   "cell_type": "code",
   "execution_count": 7,
   "id": "08a428c1-f486-4734-a4bb-d28f7f6dccfc",
   "metadata": {},
   "outputs": [],
   "source": [
    "# Se amostragem True, filtra os dados do df conforme os nós salvos anteriormente.  \n",
    "if AMOSTRAGEM:\n",
    "    amostragem_nos = load_with_pickle('../Dados/Processados/', 'amostragem_nos')\n",
    "    dataset = dataset.query(\"ID_Origem in @amostragem_nos & ID_Destino in @amostragem_nos\")"
   ]
  },
  {
   "cell_type": "code",
   "execution_count": 8,
   "id": "eaaea09a-6ef0-4ae3-b6df-4592ce756747",
   "metadata": {},
   "outputs": [
    {
     "data": {
      "text/plain": [
       "127280"
      ]
     },
     "execution_count": 8,
     "metadata": {},
     "output_type": "execute_result"
    }
   ],
   "source": [
    "len(amostragem_nos)"
   ]
  },
  {
   "cell_type": "code",
   "execution_count": 9,
   "id": "f2533f09-1587-45c8-83a8-ed61a4edc435",
   "metadata": {},
   "outputs": [
    {
     "data": {
      "text/html": [
       "<div>\n",
       "<style scoped>\n",
       "    .dataframe tbody tr th:only-of-type {\n",
       "        vertical-align: middle;\n",
       "    }\n",
       "\n",
       "    .dataframe tbody tr th {\n",
       "        vertical-align: top;\n",
       "    }\n",
       "\n",
       "    .dataframe thead th {\n",
       "        text-align: right;\n",
       "    }\n",
       "</style>\n",
       "<table border=\"1\" class=\"dataframe\">\n",
       "  <thead>\n",
       "    <tr style=\"text-align: right;\">\n",
       "      <th></th>\n",
       "      <th>ID_Origem</th>\n",
       "      <th>ID_Destino</th>\n",
       "      <th>Count</th>\n",
       "    </tr>\n",
       "  </thead>\n",
       "  <tbody>\n",
       "    <tr>\n",
       "      <th>0</th>\n",
       "      <td>0002448B2A2A138F154E6E90C6D23232</td>\n",
       "      <td>60112502E474CDE92996E61657B0E2E4</td>\n",
       "      <td>16</td>\n",
       "    </tr>\n",
       "    <tr>\n",
       "      <th>1</th>\n",
       "      <td>0006E1F1B5CC32F85742C92482A80D25</td>\n",
       "      <td>58D85384ED25AF6E431B0C7E1551F137</td>\n",
       "      <td>4</td>\n",
       "    </tr>\n",
       "    <tr>\n",
       "      <th>2</th>\n",
       "      <td>0007220530EE60EFCAEF56FF0B85346C</td>\n",
       "      <td>5FE002659FB06D9E83BD0E22F9F6A7B3</td>\n",
       "      <td>22</td>\n",
       "    </tr>\n",
       "  </tbody>\n",
       "</table>\n",
       "</div>"
      ],
      "text/plain": [
       "                          ID_Origem                        ID_Destino  Count\n",
       "0  0002448B2A2A138F154E6E90C6D23232  60112502E474CDE92996E61657B0E2E4     16\n",
       "1  0006E1F1B5CC32F85742C92482A80D25  58D85384ED25AF6E431B0C7E1551F137      4\n",
       "2  0007220530EE60EFCAEF56FF0B85346C  5FE002659FB06D9E83BD0E22F9F6A7B3     22"
      ]
     },
     "execution_count": 9,
     "metadata": {},
     "output_type": "execute_result"
    }
   ],
   "source": [
    "# Selecionando os usuários que tenham feito pelo menos 4 ligações para o mesmo destino\n",
    "df = dataset.groupby(['ID_Origem', 'ID_Destino']).size().reset_index(name='Count')\n",
    "df = df.query(\"Count >= 4\")\n",
    "df.head(3)"
   ]
  },
  {
   "cell_type": "code",
   "execution_count": 10,
   "id": "5916648c",
   "metadata": {},
   "outputs": [],
   "source": [
    "agrup_origem = df.groupby('ID_Origem').sum().reset_index()\n",
    "agrup_origem = agrup_origem.query(\"Count <= 300\")['ID_Origem']"
   ]
  },
  {
   "cell_type": "code",
   "execution_count": 11,
   "id": "47963e55",
   "metadata": {},
   "outputs": [],
   "source": [
    "agrup_destino = df.groupby('ID_Destino').sum().reset_index()\n",
    "agrup_destino = agrup_destino.query(\"Count <= 300\")['ID_Destino']"
   ]
  },
  {
   "cell_type": "code",
   "execution_count": 12,
   "id": "d862ad1a",
   "metadata": {},
   "outputs": [
    {
     "data": {
      "text/plain": [
       "102257"
      ]
     },
     "execution_count": 12,
     "metadata": {},
     "output_type": "execute_result"
    }
   ],
   "source": [
    "# Todos os IDs que fizeram ou receberam mais de 6 ligações\n",
    "nos = np.unique(np.append(agrup_origem, agrup_destino))\n",
    "save_with_pickle(nos, '../Dados/Processados/', 'nos')\n",
    "len(nos)"
   ]
  },
  {
   "cell_type": "code",
   "execution_count": 13,
   "id": "9a2ff58c",
   "metadata": {},
   "outputs": [
    {
     "data": {
      "text/plain": [
       "(152181, 3)"
      ]
     },
     "execution_count": 13,
     "metadata": {},
     "output_type": "execute_result"
    }
   ],
   "source": [
    "df = df.query(\"ID_Origem in @nos | ID_Destino in @nos\")\n",
    "df.shape"
   ]
  },
  {
   "cell_type": "code",
   "execution_count": 14,
   "id": "9a325d3c",
   "metadata": {},
   "outputs": [],
   "source": [
    "if EXECUTAR:    \n",
    "    # Instanciando o dicionário\n",
    "    users = {}\n",
    "    for ID in df['ID_Origem'].unique():\n",
    "        users[ID] = {'Ligações': list()}\n",
    "        \n",
    "    # Agrupando as ligações em um dicionário    \n",
    "    for _, row in df.iterrows():\n",
    "        users[row['ID_Origem']]['Ligações'].append(row['ID_Destino'])\n",
    "    \n",
    "    # Salva o dicionário em um objeto pickle\n",
    "    save_with_pickle(users, '../Dados/Processados/', 'dict_dados')\n",
    "    \n",
    "else:\n",
    "    # Carrega o dicionário em um objeto pickle\n",
    "    users = load_with_pickle('../Dados/Processados/', 'dict_dados')"
   ]
  }
 ],
 "metadata": {
  "kernelspec": {
   "display_name": "Python 3 (ipykernel)",
   "language": "python",
   "name": "python3"
  },
  "language_info": {
   "codemirror_mode": {
    "name": "ipython",
    "version": 3
   },
   "file_extension": ".py",
   "mimetype": "text/x-python",
   "name": "python",
   "nbconvert_exporter": "python",
   "pygments_lexer": "ipython3",
   "version": "3.11.7"
  }
 },
 "nbformat": 4,
 "nbformat_minor": 5
}

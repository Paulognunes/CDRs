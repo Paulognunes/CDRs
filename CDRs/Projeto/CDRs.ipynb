{
 "cells": [
  {
   "cell_type": "markdown",
   "id": "d605e716",
   "metadata": {},
   "source": [
    "# <font color='red' style='font-size: 30px;'> Rede Complexa Baseada em CDR's </font>\n",
    "<hr style='border: 2px solid red;'>"
   ]
  },
  {
   "cell_type": "markdown",
   "id": "a78f16c2",
   "metadata": {},
   "source": [
    "## <font color = 'black' style='font-size: 26px;'> Imports </font>  \n",
    "<hr style = 'border: 1.5px solid black;'>"
   ]
  },
  {
   "cell_type": "code",
   "execution_count": 3,
   "id": "e14f7343",
   "metadata": {
    "scrolled": true
   },
   "outputs": [],
   "source": [
    "# Lista de Imports\n",
    "import pandas as pd\n",
    "import numpy as np\n",
    "import networkx as nx\n",
    "import time\n",
    "from functions import save_with_pickle, load_with_pickle\n",
    "\n",
    "# Variáveis Globais\n",
    "EXECUTAR = True"
   ]
  },
  {
   "cell_type": "markdown",
   "id": "25d389ad",
   "metadata": {},
   "source": [
    "## <font color = 'black' style='font-size: 26px;'> Importando os Dados </font>  \n",
    "<hr style = 'border: 1.5px solid black;'>"
   ]
  },
  {
   "cell_type": "code",
   "execution_count": 5,
   "id": "cb56957f",
   "metadata": {},
   "outputs": [],
   "source": [
    "# Importação dos Dados\n",
    "dataset = pd.read_csv('../Dados/cdr_processed_Uberlândia.csv', sep=',')"
   ]
  },
  {
   "cell_type": "markdown",
   "id": "bacdb18d",
   "metadata": {},
   "source": [
    "## <font color = 'black' style='font-size: 26px;'> Realizando o Pré-Processamento </font>  \n",
    "<hr style = 'border: 1.5px solid black;'>"
   ]
  },
  {
   "cell_type": "code",
   "execution_count": 7,
   "id": "7493d7af",
   "metadata": {},
   "outputs": [
    {
     "data": {
      "text/plain": [
       "(7618927, 6)"
      ]
     },
     "execution_count": 7,
     "metadata": {},
     "output_type": "execute_result"
    }
   ],
   "source": [
    "# Selecionando as ligações com duração maiores que 15 segundos\n",
    "dataset = dataset[dataset['Duração'] >= 0.24]\n",
    "dataset.shape"
   ]
  },
  {
   "cell_type": "code",
   "execution_count": 8,
   "id": "1f82cefd",
   "metadata": {},
   "outputs": [
    {
     "data": {
      "text/plain": [
       "30"
      ]
     },
     "execution_count": 8,
     "metadata": {},
     "output_type": "execute_result"
    }
   ],
   "source": [
    "len(dataset['Data'].unique())"
   ]
  },
  {
   "cell_type": "code",
   "execution_count": 9,
   "id": "f2533f09-1587-45c8-83a8-ed61a4edc435",
   "metadata": {},
   "outputs": [
    {
     "data": {
      "text/html": [
       "<div>\n",
       "<style scoped>\n",
       "    .dataframe tbody tr th:only-of-type {\n",
       "        vertical-align: middle;\n",
       "    }\n",
       "\n",
       "    .dataframe tbody tr th {\n",
       "        vertical-align: top;\n",
       "    }\n",
       "\n",
       "    .dataframe thead th {\n",
       "        text-align: right;\n",
       "    }\n",
       "</style>\n",
       "<table border=\"1\" class=\"dataframe\">\n",
       "  <thead>\n",
       "    <tr style=\"text-align: right;\">\n",
       "      <th></th>\n",
       "      <th>ID_Origem</th>\n",
       "      <th>ID_Destino</th>\n",
       "      <th>Count</th>\n",
       "    </tr>\n",
       "  </thead>\n",
       "  <tbody>\n",
       "    <tr>\n",
       "      <th>0</th>\n",
       "      <td>0000489E396F11608F0DF012E4FAB9B8</td>\n",
       "      <td>07D92D9481B1C217EC7B30E2504140D6</td>\n",
       "      <td>15</td>\n",
       "    </tr>\n",
       "    <tr>\n",
       "      <th>1</th>\n",
       "      <td>0000489E396F11608F0DF012E4FAB9B8</td>\n",
       "      <td>1AA438F6F9D834D57A83AC905DD99DE6</td>\n",
       "      <td>7</td>\n",
       "    </tr>\n",
       "    <tr>\n",
       "      <th>2</th>\n",
       "      <td>0000489E396F11608F0DF012E4FAB9B8</td>\n",
       "      <td>4A1C09A9877D94ECF35B0320EE94364D</td>\n",
       "      <td>7</td>\n",
       "    </tr>\n",
       "  </tbody>\n",
       "</table>\n",
       "</div>"
      ],
      "text/plain": [
       "                          ID_Origem                        ID_Destino  Count\n",
       "0  0000489E396F11608F0DF012E4FAB9B8  07D92D9481B1C217EC7B30E2504140D6     15\n",
       "1  0000489E396F11608F0DF012E4FAB9B8  1AA438F6F9D834D57A83AC905DD99DE6      7\n",
       "2  0000489E396F11608F0DF012E4FAB9B8  4A1C09A9877D94ECF35B0320EE94364D      7"
      ]
     },
     "execution_count": 9,
     "metadata": {},
     "output_type": "execute_result"
    }
   ],
   "source": [
    "df = dataset.groupby(['ID_Origem', 'ID_Destino']).size().reset_index(name='Count')\n",
    "df = df.query(\"Count >= 5\")\n",
    "df.head(3)"
   ]
  },
  {
   "cell_type": "code",
   "execution_count": 10,
   "id": "5916648c",
   "metadata": {},
   "outputs": [],
   "source": [
    "agrup_origem = df.groupby('ID_Origem').sum().reset_index()\n",
    "agrup_origem = agrup_origem.query(\"Count <= 200\")['ID_Origem']"
   ]
  },
  {
   "cell_type": "code",
   "execution_count": 11,
   "id": "47963e55",
   "metadata": {},
   "outputs": [],
   "source": [
    "agrup_destino = df.groupby('ID_Destino').sum().reset_index()\n",
    "agrup_destino = agrup_destino.query(\"Count <= 200\")['ID_Destino']"
   ]
  },
  {
   "cell_type": "code",
   "execution_count": 12,
   "id": "d862ad1a",
   "metadata": {},
   "outputs": [
    {
     "data": {
      "text/plain": [
       "372045"
      ]
     },
     "execution_count": 12,
     "metadata": {},
     "output_type": "execute_result"
    }
   ],
   "source": [
    "# Todos os IDs que fizeram ou receberam mais de 6 ligações\n",
    "nos = np.unique(np.append(agrup_origem, agrup_destino))\n",
    "save_with_pickle(nos, '../Dados/Processados/', 'nos')\n",
    "len(nos)"
   ]
  },
  {
   "cell_type": "code",
   "execution_count": 13,
   "id": "9a2ff58c",
   "metadata": {},
   "outputs": [
    {
     "data": {
      "text/plain": [
       "(551748, 3)"
      ]
     },
     "execution_count": 13,
     "metadata": {},
     "output_type": "execute_result"
    }
   ],
   "source": [
    "df = df.query(\"ID_Origem in @nos | ID_Destino in @nos\")\n",
    "df.shape"
   ]
  },
  {
   "cell_type": "code",
   "execution_count": 14,
   "id": "9a325d3c",
   "metadata": {},
   "outputs": [],
   "source": [
    "if EXECUTAR:    \n",
    "    # Instanciando o dicionário\n",
    "    users = {}\n",
    "    for ID in df['ID_Origem'].unique():\n",
    "        users[ID] = {'Ligações': list()}\n",
    "        \n",
    "    # Agrupando as ligações em um dicionário    \n",
    "    for _, row in df.iterrows():\n",
    "        users[row['ID_Origem']]['Ligações'].append(row['ID_Destino'])\n",
    "    \n",
    "    # Salva o dicionário em um objeto pickle\n",
    "    save_with_pickle(users, '../Dados/Processados/', 'dict_dados')\n",
    "    \n",
    "else:\n",
    "    # Carrega o dicionário em um objeto pickle\n",
    "    users = load_with_pickle('../Dados/Processados/', 'dict_dados')"
   ]
  },
  {
   "cell_type": "markdown",
   "id": "81a6dace",
   "metadata": {},
   "source": [
    "## <font color = 'black' style='font-size: 26px;'> Criando a Rede </font>  \n",
    "<hr style = 'border: 1.5px solid black;'>"
   ]
  },
  {
   "cell_type": "code",
   "execution_count": 16,
   "id": "918caa25",
   "metadata": {},
   "outputs": [],
   "source": [
    "def contabiliza_ligacoes(origem, destino, dicionario):\n",
    "    total = 0\n",
    "    if origem in dicionario:\n",
    "        total += dicionario[origem]['Ligações'].count(destino)\n",
    "        \n",
    "    if destino in dicionario:\n",
    "        total += dicionario[destino]['Ligações'].count(origem)\n",
    "        \n",
    "    return total    "
   ]
  },
  {
   "cell_type": "code",
   "execution_count": 17,
   "id": "5f1ce8b0",
   "metadata": {},
   "outputs": [],
   "source": [
    "def inicializa_grafo(nos):\n",
    "    grafo = nx.Graph() \n",
    "    for i in nos:\n",
    "        grafo.add_node(i)\n",
    "    return grafo"
   ]
  },
  {
   "cell_type": "code",
   "execution_count": 18,
   "id": "1011e4c5",
   "metadata": {},
   "outputs": [],
   "source": [
    "def cria_arestas(grafo, nos, dicionario):\n",
    "    \n",
    "    # Cria arestas entre todos os nós da lista\n",
    "    for i in dicionario.keys():\n",
    "        for j in dicionario[i]['Ligações']:\n",
    "            if not grafo.has_edge(i, j):\n",
    "                grafo.add_edge(i, j)\n",
    "    return grafo"
   ]
  },
  {
   "cell_type": "code",
   "execution_count": 19,
   "id": "d6069962",
   "metadata": {},
   "outputs": [],
   "source": [
    "def gera_grafo(nos, dicionario):    \n",
    "    grafo = inicializa_grafo(nos)\n",
    "    grafo = cria_arestas(grafo, nos, dicionario)\n",
    "    return grafo"
   ]
  },
  {
   "cell_type": "code",
   "execution_count": 20,
   "id": "c2d09512-3b62-4f79-8491-5f8aa93d84b6",
   "metadata": {},
   "outputs": [],
   "source": [
    "##### grafo = gera_grafo(nos, users)\n",
    "# nx.write_graphml(grafo, \"cdr_grafo.graphml\")"
   ]
  }
 ],
 "metadata": {
  "kernelspec": {
   "display_name": "Python 3 (ipykernel)",
   "language": "python",
   "name": "python3"
  },
  "language_info": {
   "codemirror_mode": {
    "name": "ipython",
    "version": 3
   },
   "file_extension": ".py",
   "mimetype": "text/x-python",
   "name": "python",
   "nbconvert_exporter": "python",
   "pygments_lexer": "ipython3",
   "version": "3.11.7"
  }
 },
 "nbformat": 4,
 "nbformat_minor": 5
}

{
 "cells": [
  {
   "cell_type": "markdown",
   "id": "c6da6019",
   "metadata": {},
   "source": [
    "# <font color='red' style='font-size: 30px;'> Rede Multinível </font>\n",
    "<hr style='border: 2px solid red;'>"
   ]
  },
  {
   "cell_type": "markdown",
   "id": "e2f45f38",
   "metadata": {},
   "source": [
    "## <font color = 'black' style='font-size: 26px;'> Imports </font>  \n",
    "<hr style = 'border: 1.5px solid black;'>"
   ]
  },
  {
   "cell_type": "code",
   "execution_count": 1,
   "id": "9244d366",
   "metadata": {},
   "outputs": [],
   "source": [
    "# Libs Utilizadas\n",
    "import networkx as nx\n",
    "from sklearn.metrics import mean_squared_error\n",
    "import random\n",
    "import numpy as np"
   ]
  },
  {
   "cell_type": "code",
   "execution_count": 2,
   "id": "be60984a",
   "metadata": {},
   "outputs": [],
   "source": [
    "random.seed(42)"
   ]
  },
  {
   "cell_type": "markdown",
   "id": "8fd14245",
   "metadata": {},
   "source": [
    "## <font color = 'black' style='font-size: 26px;'> Funções Grafos </font>  \n",
    "<hr style = 'border: 1.5px solid black;'>"
   ]
  },
  {
   "cell_type": "code",
   "execution_count": 3,
   "id": "1ce04cb3",
   "metadata": {},
   "outputs": [],
   "source": [
    "def inicializa_grafo(populacao, porcentagem_adultos):\n",
    "    \n",
    "    # Criando o Grafo\n",
    "    grafo = nx.Graph()\n",
    "    \n",
    "    # Quantidade de nós a serem instanciados\n",
    "    total_adultos = round(porcentagem_adultos * populacao)\n",
    " \n",
    "    for i in range(populacao):\n",
    "        if i < total_adultos:\n",
    "            grafo.add_node(i, classe=\"Adulto\")\n",
    "        else:\n",
    "            grafo.add_node(i, classe=\"Criança\")\n",
    "    return grafo"
   ]
  },
  {
   "cell_type": "code",
   "execution_count": 4,
   "id": "e5f00265",
   "metadata": {},
   "outputs": [],
   "source": [
    "def cria_arestas(grafo, lista_nos, prob_criacao_arestas, nome_aresta, peso):\n",
    "    \n",
    "    # Cria arestas entre todos os nós da lista\n",
    "    for i in range(len(lista_nos) - 1):\n",
    "        for j in range(i + 1, len(lista_nos)):\n",
    "            if random.random() < prob_criacao_arestas:\n",
    "                if not grafo.has_edge(lista_nos[i], lista_nos[j]):\n",
    "                    grafo.add_edge(lista_nos[i], lista_nos[j])\n",
    "                nx.set_edge_attributes(grafo, {(lista_nos[i], lista_nos[j]):{nome_aresta:peso}})\n",
    "    return grafo"
   ]
  },
  {
   "cell_type": "markdown",
   "id": "cc0e0cbe",
   "metadata": {},
   "source": [
    "## <font color = 'black' style='font-size: 26px;'> Camada \"Família\" </font>  \n",
    "<hr style = 'border: 1.5px solid black;'>"
   ]
  },
  {
   "cell_type": "code",
   "execution_count": 5,
   "id": "6d400df3",
   "metadata": {},
   "outputs": [],
   "source": [
    "def contabiliza_nos(grafo):\n",
    "    adultos_nao_agrupados= []\n",
    "    criancas_nao_agrupadas = []    \n",
    "    for i, j in grafo.nodes.items():\n",
    "        if j['classe'] == \"Adulto\":\n",
    "            adultos_nao_agrupados.append(i)\n",
    "        else:\n",
    "            criancas_nao_agrupadas.append(i)\n",
    "            \n",
    "    return adultos_nao_agrupados, criancas_nao_agrupadas"
   ]
  },
  {
   "cell_type": "code",
   "execution_count": 6,
   "id": "7ffc31d0",
   "metadata": {},
   "outputs": [],
   "source": [
    "def separa_adultos(porc_tam_familia, populacao, adultos_nao_agrupados):    \n",
    "    total = 0\n",
    "    for i, j in porc_tam_familia.items():\n",
    "        total += round(j * populacao / int(i))    \n",
    "    adultos_separados = adultos_nao_agrupados[0:total]\n",
    "    del adultos_nao_agrupados[0:total]\n",
    "    \n",
    "    return adultos_separados"
   ]
  },
  {
   "cell_type": "code",
   "execution_count": 7,
   "id": "046f0806",
   "metadata": {},
   "outputs": [],
   "source": [
    "def gera_camada_familia(grafo, porc_tam_familia, peso):\n",
    "    \n",
    "    # Contabilização dos nós de cada classe\n",
    "    adultos_nao_agrupados, criancas_nao_agrupadas = contabiliza_nos(grafo)\n",
    "    \n",
    "    # Separa 1 adulto para compor cada família \n",
    "    populacao = len(adultos_nao_agrupados) + len(criancas_nao_agrupadas)\n",
    "    adultos_separados = separa_adultos(porc_tam_familia, populacao, adultos_nao_agrupados)    \n",
    "\n",
    "    # Familias com 1 integrante    \n",
    "    solo = round(porc_tam_familia['1'] * populacao)\n",
    "    del adultos_separados[0:solo]\n",
    "    del porc_tam_familia['1']\n",
    "\n",
    "    # Agrupando demais familias\n",
    "    adultos_e_criancas = adultos_nao_agrupados + criancas_nao_agrupadas\n",
    "    random.shuffle(adultos_e_criancas)\n",
    "    tamanho = 2\n",
    "        \n",
    "    for i in porc_tam_familia.values():\n",
    "        \n",
    "        for _ in range(round((i * populacao) / tamanho)):            \n",
    "            aux = list()\n",
    "            aux.append(adultos_separados.pop())\n",
    "            \n",
    "            for _ in range(tamanho - 1):\n",
    "                # Como os valores são arredondados, pode faltar elemento, causando erro de remoção de lista vazia \n",
    "                if len(adultos_e_criancas):                \n",
    "                    aux.append(adultos_e_criancas.pop())\n",
    "            grafo = cria_arestas(grafo, aux, 1, 'Família', peso)\n",
    "        tamanho += 1\n",
    "    \n",
    "    # Agrupa os nós que sobraram em um único conjunto\n",
    "    if adultos_separados or adultos_e_criancas:\n",
    "        grafo = cria_arestas(grafo, adultos_separados + adultos_e_criancas, 1, 'Família', peso)\n",
    "        \n",
    "    return grafo"
   ]
  },
  {
   "cell_type": "markdown",
   "id": "58d43fdf",
   "metadata": {},
   "source": [
    "## <font color = 'black' style='font-size: 26px;'> Demais Camadas </font>  \n",
    "<hr style = 'border: 1.5px solid black;'>"
   ]
  },
  {
   "cell_type": "code",
   "execution_count": 8,
   "id": "d957d470",
   "metadata": {},
   "outputs": [],
   "source": [
    "def remove_elem(lista, list_elem_removidos):\n",
    "    for i in list_elem_removidos:\n",
    "        lista.remove(i)"
   ]
  },
  {
   "cell_type": "code",
   "execution_count": 9,
   "id": "0a4177b7",
   "metadata": {},
   "outputs": [],
   "source": [
    "def separa_nos(grafo, valor_agrup):\n",
    "    \n",
    "    if valor_agrup == 'Todos':\n",
    "        nos = []\n",
    "        for i, j in grafo.nodes.items():\n",
    "            nos.append(i)\n",
    "        return nos\n",
    "    else:\n",
    "        nos = []\n",
    "        for i, j in grafo.nodes.items():\n",
    "            if j['classe'] == valor_agrup:\n",
    "                nos.append(i)\n",
    "        return nos        "
   ]
  },
  {
   "cell_type": "code",
   "execution_count": 10,
   "id": "ea000410",
   "metadata": {},
   "outputs": [],
   "source": [
    "def gera_camada(grafo, valor_agrup, porc_agrup, lim_inf, lim_sup, prob_criacao_arestas, nome_aresta, peso):\n",
    "    \n",
    "    # Seleciona os nós\n",
    "    nos = separa_nos(grafo, valor_agrup)\n",
    "    \n",
    "    # Separa nós a serem utilizados\n",
    "    total_nos_agrup = round(len(nos) * porc_agrup)\n",
    "    nos_agrupamento = random.sample(nos, total_nos_agrup)\n",
    "\n",
    "    while(len(nos_agrupamento)):\n",
    "        \n",
    "        # Tamanho randdômico dos agrupamentos\n",
    "        tam_grupo= random.randint(lim_inf, lim_sup)\n",
    "        \n",
    "        if len(nos_agrupamento) > tam_grupo:            \n",
    "            grupo =  random.sample(nos_agrupamento, tam_grupo)\n",
    "            cria_arestas(grafo, grupo, prob_criacao_arestas, nome_aresta, peso)\n",
    "            remove_elem(nos_agrupamento, grupo)\n",
    "            \n",
    "        else:\n",
    "            cria_arestas(grafo, nos_agrupamento, prob_criacao_arestas, nome_aresta, peso)\n",
    "            nos_agrupamento.clear()\n",
    "            \n",
    "    return grafo"
   ]
  },
  {
   "cell_type": "markdown",
   "id": "2c2ac5c2",
   "metadata": {},
   "source": [
    "## <font color = 'black' style='font-size: 26px;'> Gerando Rede </font>  \n",
    "<hr style = 'border: 1.5px solid black;'>"
   ]
  },
  {
   "cell_type": "code",
   "execution_count": 11,
   "id": "3ca66d56",
   "metadata": {},
   "outputs": [],
   "source": [
    "# Inicializando o Grafo\n",
    "grafo = inicializa_grafo(90497, 0.76)"
   ]
  },
  {
   "cell_type": "code",
   "execution_count": 12,
   "id": "eebf78d4",
   "metadata": {},
   "outputs": [],
   "source": [
    "porc_tam_familia = {'1' : 0.12, \n",
    "                    '2' : 0.22, \n",
    "                    '3' : 0.25, \n",
    "                    '4' : 0.21, \n",
    "                    '5' : 0.11, \n",
    "                    '6' : 0.05, \n",
    "                    '7' : 0.02,\n",
    "                    '8' : 0.01,\n",
    "                    '9' : 0.005,\n",
    "                    '10' : 0.005}"
   ]
  },
  {
   "cell_type": "code",
   "execution_count": 13,
   "id": "2dee656f",
   "metadata": {},
   "outputs": [],
   "source": [
    "# Camada Família\n",
    "grafo = gera_camada_familia(grafo, porc_tam_familia, 0.125)\n",
    "\n",
    "# Camada Trabalho\n",
    "grafo = gera_camada(grafo, 'Adulto', 0.79, 5, 30, 0.3, 'Trabalho', 0.238)\n",
    "\n",
    "# Camada Escola\n",
    "grafo = gera_camada(grafo, 'Criança', 1, 16, 30, 0.3, 'Escola', 0.12)\n",
    "\n",
    "# Camada Transporte\n",
    "grafo = gera_camada(grafo, 'Todos', 0.5, 10, 30, 0.1, 'Transporte', 0.05)\n",
    "\n",
    "# Camada Religião\n",
    "grafo = gera_camada(grafo, 'Todos', 0.4, 10, 100, 0.3, 'Religião', 0.01)\n",
    "\n",
    "# Camada Aleatória\n",
    "grafo = gera_camada(grafo, 'Todos', 1, 3, 3, 1, 'Aleatória', 0.006)\n",
    "nx.write_graphml(grafo, \"SJDR.graphml\")"
   ]
  },
  {
   "cell_type": "code",
   "execution_count": 14,
   "id": "4eefcb9a-95eb-45d8-8750-f6ab32972d1a",
   "metadata": {},
   "outputs": [
    {
     "name": "stdout",
     "output_type": "stream",
     "text": [
      "23 12079 {'Trabalho': 0.238, 'Religião': 0.01} 0.248\n",
      "580 10712 {'Trabalho': 0.238, 'Religião': 0.01} 0.248\n",
      "897 37559 {'Religião': 0.01, 'Aleatória': 0.006} 0.016\n",
      "1891 68823 {'Religião': 0.01, 'Aleatória': 0.006} 0.016\n",
      "2253 36508 {'Trabalho': 0.238, 'Aleatória': 0.006} 0.244\n",
      "5793 36383 {'Transporte': 0.05, 'Religião': 0.01} 0.06\n",
      "6664 35273 {'Trabalho': 0.238, 'Religião': 0.01} 0.248\n",
      "7594 46074 {'Trabalho': 0.238, 'Religião': 0.01} 0.248\n",
      "7897 89270 {'Religião': 0.01, 'Aleatória': 0.006} 0.016\n",
      "8229 57804 {'Trabalho': 0.238, 'Religião': 0.01} 0.248\n",
      "11033 44698 {'Trabalho': 0.238, 'Religião': 0.01} 0.248\n",
      "11450 62895 {'Família': 0.125, 'Religião': 0.01} 0.135\n",
      "11526 64177 {'Família': 0.125, 'Religião': 0.01} 0.135\n",
      "12228 17456 {'Religião': 0.01, 'Aleatória': 0.006} 0.016\n",
      "12249 50540 {'Trabalho': 0.238, 'Religião': 0.01} 0.248\n",
      "12416 82933 {'Família': 0.125, 'Religião': 0.01} 0.135\n",
      "12611 79968 {'Religião': 0.01, 'Aleatória': 0.006} 0.016\n",
      "12876 28163 {'Trabalho': 0.238, 'Religião': 0.01} 0.248\n",
      "14591 49647 {'Família': 0.125, 'Aleatória': 0.006} 0.131\n",
      "15014 45726 {'Família': 0.125, 'Trabalho': 0.238} 0.363\n",
      "15935 25312 {'Trabalho': 0.238, 'Transporte': 0.05} 0.288\n",
      "16819 70459 {'Transporte': 0.05, 'Religião': 0.01} 0.06\n",
      "17365 85254 {'Família': 0.125, 'Transporte': 0.05} 0.175\n",
      "18695 36958 {'Família': 0.125, 'Trabalho': 0.238} 0.363\n",
      "19738 45038 {'Trabalho': 0.238, 'Religião': 0.01} 0.248\n",
      "19934 84134 {'Transporte': 0.05, 'Religião': 0.01} 0.06\n",
      "21932 80813 {'Família': 0.125, 'Religião': 0.01} 0.135\n",
      "24095 54293 {'Família': 0.125, 'Trabalho': 0.238} 0.363\n",
      "24978 79157 {'Família': 0.125, 'Aleatória': 0.006} 0.131\n",
      "25320 61947 {'Família': 0.125, 'Trabalho': 0.238} 0.363\n",
      "25867 81333 {'Família': 0.125, 'Religião': 0.01} 0.135\n",
      "25882 50309 {'Religião': 0.01, 'Aleatória': 0.006} 0.016\n",
      "29885 54172 {'Trabalho': 0.238, 'Religião': 0.01} 0.248\n",
      "32449 87620 {'Transporte': 0.05, 'Aleatória': 0.006} 0.056\n",
      "36222 76454 {'Religião': 0.01, 'Aleatória': 0.006} 0.016\n",
      "36939 70772 {'Religião': 0.01, 'Aleatória': 0.006} 0.016\n",
      "41366 80970 {'Família': 0.125, 'Religião': 0.01} 0.135\n",
      "41469 42981 {'Família': 0.125, 'Aleatória': 0.006} 0.131\n",
      "42523 52991 {'Trabalho': 0.238, 'Religião': 0.01} 0.248\n",
      "45130 52478 {'Família': 0.125, 'Trabalho': 0.238} 0.363\n",
      "46607 49323 {'Família': 0.125, 'Trabalho': 0.238} 0.363\n",
      "46718 71927 {'Família': 0.125, 'Religião': 0.01} 0.135\n",
      "47323 68304 {'Trabalho': 0.238, 'Religião': 0.01} 0.248\n",
      "48025 52148 {'Religião': 0.01, 'Aleatória': 0.006} 0.016\n",
      "50164 74880 {'Família': 0.125, 'Religião': 0.01} 0.135\n",
      "51548 65840 {'Trabalho': 0.238, 'Religião': 0.01} 0.248\n",
      "52804 58046 {'Trabalho': 0.238, 'Aleatória': 0.006} 0.244\n",
      "53514 56200 {'Trabalho': 0.238, 'Religião': 0.01} 0.248\n",
      "56252 64076 {'Trabalho': 0.238, 'Religião': 0.01} 0.248\n",
      "61241 88007 {'Religião': 0.01, 'Aleatória': 0.006} 0.016\n",
      "69366 77169 {'Escola': 0.12, 'Aleatória': 0.006} 0.126\n",
      "70523 85580 {'Escola': 0.12, 'Transporte': 0.05} 0.17\n",
      "71175 85317 {'Família': 0.125, 'Escola': 0.12} 0.245\n",
      "71298 78644 {'Escola': 0.12, 'Religião': 0.01} 0.13\n",
      "71459 89042 {'Família': 0.125, 'Escola': 0.12} 0.245\n",
      "72923 86013 {'Escola': 0.12, 'Religião': 0.01} 0.13\n",
      "74050 78431 {'Escola': 0.12, 'Religião': 0.01} 0.13\n",
      "74414 76974 {'Religião': 0.01, 'Aleatória': 0.006} 0.016\n",
      "74682 86976 {'Escola': 0.12, 'Religião': 0.01} 0.13\n",
      "77969 81194 {'Família': 0.125, 'Escola': 0.12} 0.245\n",
      "79857 86657 {'Família': 0.125, 'Escola': 0.12} 0.245\n",
      "82557 84507 {'Escola': 0.12, 'Religião': 0.01} 0.13\n",
      "82996 88396 {'Escola': 0.12, 'Transporte': 0.05} 0.17\n"
     ]
    }
   ],
   "source": [
    "for i, j, k in grafo.edges.data():\n",
    "    if len(k.keys()) >= 2:\n",
    "        print(i, j, k, round(sum(k.values()), 3))"
   ]
  },
  {
   "cell_type": "markdown",
   "id": "2272064f-bf7c-4bb5-a8f0-dfded0440578",
   "metadata": {},
   "source": [
    "cont = []\n",
    "for _, _, i in grafo.edges.data():\n",
    "    cont.append(i)"
   ]
  },
  {
   "cell_type": "markdown",
   "id": "9186e55c-7e07-4655-a55f-4843ce70d520",
   "metadata": {},
   "source": [
    "from collections import Counter \n",
    "c = Counter(cont)\n",
    "c"
   ]
  },
  {
   "cell_type": "markdown",
   "id": "5250d49e",
   "metadata": {},
   "source": [
    "## <font color = 'black' style='font-size: 26px;'> Simulador </font>  \n",
    "<hr style = 'border: 1.5px solid black;'>"
   ]
  },
  {
   "cell_type": "code",
   "execution_count": 15,
   "id": "2b8b729b-0f2a-45ab-a0a8-7d2602605a68",
   "metadata": {},
   "outputs": [],
   "source": [
    "def simulacao(grafo, dias, beta, gamma, nos_infectados, nos_recuperados):\n",
    "    \n",
    "    # Composite Model instantiation\n",
    "    model = gc.CompositeModel(grafo)\n",
    "\n",
    "    # Model statuses\n",
    "    model.add_status(\"Susceptible\")\n",
    "    model.add_status(\"Infected\")\n",
    "    model.add_status(\"Removed\")\n",
    "    \n",
    "    # Compartment definition\n",
    "    c1 = es.EdgeStochastic(triggering_status=\"Infected\")\n",
    "    c2 = es.NodeStochastic(gamma)\n",
    "    \n",
    "    # Rule definition    \n",
    "    model.add_rule(\"Susceptible\", \"Infected\", c1)\n",
    "    model.add_rule(\"Infected\", \"Removed\", c2)\n",
    "    \n",
    "    # Model initial status configuration\n",
    "    config = mc.Configuration()\n",
    "    \n",
    "    # Threshold specs\n",
    "    for i, j, k in grafo.edges.data():\n",
    "        threshold = beta * round(sum(k.values()), 2)\n",
    "        config.add_edge_configuration(\"threshold\", (i, j), threshold)\n",
    "\n",
    "    # Inicializando os nos infectados\n",
    "    config.add_model_initial_configuration(\"Infected\", nos_infectados)\n",
    "    config.add_model_initial_configuration(\"Removed\", nos_recuperados)\n",
    "\n",
    "    # Simulation execution\n",
    "    model.set_initial_status(config)\n",
    "    iterations = model.iteration_bunch(100)    \n",
    "    return iterations"
   ]
  },
  {
   "cell_type": "code",
   "execution_count": null,
   "id": "5a8a6313-f816-4324-97f6-4568fb5f0dda",
   "metadata": {},
   "outputs": [],
   "source": []
  }
 ],
 "metadata": {
  "kernelspec": {
   "display_name": "Python 3 (ipykernel)",
   "language": "python",
   "name": "python3"
  },
  "language_info": {
   "codemirror_mode": {
    "name": "ipython",
    "version": 3
   },
   "file_extension": ".py",
   "mimetype": "text/x-python",
   "name": "python",
   "nbconvert_exporter": "python",
   "pygments_lexer": "ipython3",
   "version": "3.11.7"
  }
 },
 "nbformat": 4,
 "nbformat_minor": 5
}
